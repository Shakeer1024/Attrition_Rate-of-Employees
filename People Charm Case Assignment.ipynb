{
 "cells": [
  {
   "cell_type": "code",
   "execution_count": 92,
   "metadata": {},
   "outputs": [],
   "source": [
    "import pandas as pd\n",
    "import numpy as np"
   ]
  },
  {
   "cell_type": "markdown",
   "metadata": {},
   "source": [
    "# Loading the data"
   ]
  },
  {
   "cell_type": "code",
   "execution_count": 93,
   "metadata": {},
   "outputs": [
    {
     "data": {
      "text/html": [
       "<div>\n",
       "<style scoped>\n",
       "    .dataframe tbody tr th:only-of-type {\n",
       "        vertical-align: middle;\n",
       "    }\n",
       "\n",
       "    .dataframe tbody tr th {\n",
       "        vertical-align: top;\n",
       "    }\n",
       "\n",
       "    .dataframe thead th {\n",
       "        text-align: right;\n",
       "    }\n",
       "</style>\n",
       "<table border=\"1\" class=\"dataframe\">\n",
       "  <thead>\n",
       "    <tr style=\"text-align: right;\">\n",
       "      <th></th>\n",
       "      <th>satisfactoryLevel</th>\n",
       "      <th>lastEvaluation</th>\n",
       "      <th>numberOfProjects</th>\n",
       "      <th>avgMonthlyHours</th>\n",
       "      <th>timeSpent.company</th>\n",
       "      <th>workAccident</th>\n",
       "      <th>left</th>\n",
       "      <th>promotionInLast5years</th>\n",
       "      <th>dept</th>\n",
       "      <th>salary</th>\n",
       "    </tr>\n",
       "  </thead>\n",
       "  <tbody>\n",
       "    <tr>\n",
       "      <th>0</th>\n",
       "      <td>0.38</td>\n",
       "      <td>0.53</td>\n",
       "      <td>2</td>\n",
       "      <td>157</td>\n",
       "      <td>3</td>\n",
       "      <td>0</td>\n",
       "      <td>1</td>\n",
       "      <td>0</td>\n",
       "      <td>sales</td>\n",
       "      <td>low</td>\n",
       "    </tr>\n",
       "    <tr>\n",
       "      <th>1</th>\n",
       "      <td>0.80</td>\n",
       "      <td>0.86</td>\n",
       "      <td>5</td>\n",
       "      <td>262</td>\n",
       "      <td>6</td>\n",
       "      <td>0</td>\n",
       "      <td>1</td>\n",
       "      <td>0</td>\n",
       "      <td>sales</td>\n",
       "      <td>medium</td>\n",
       "    </tr>\n",
       "    <tr>\n",
       "      <th>2</th>\n",
       "      <td>0.11</td>\n",
       "      <td>0.88</td>\n",
       "      <td>7</td>\n",
       "      <td>272</td>\n",
       "      <td>4</td>\n",
       "      <td>0</td>\n",
       "      <td>1</td>\n",
       "      <td>0</td>\n",
       "      <td>sales</td>\n",
       "      <td>medium</td>\n",
       "    </tr>\n",
       "    <tr>\n",
       "      <th>3</th>\n",
       "      <td>0.37</td>\n",
       "      <td>0.52</td>\n",
       "      <td>2</td>\n",
       "      <td>159</td>\n",
       "      <td>3</td>\n",
       "      <td>0</td>\n",
       "      <td>1</td>\n",
       "      <td>0</td>\n",
       "      <td>sales</td>\n",
       "      <td>low</td>\n",
       "    </tr>\n",
       "    <tr>\n",
       "      <th>4</th>\n",
       "      <td>0.41</td>\n",
       "      <td>0.50</td>\n",
       "      <td>2</td>\n",
       "      <td>153</td>\n",
       "      <td>3</td>\n",
       "      <td>0</td>\n",
       "      <td>1</td>\n",
       "      <td>0</td>\n",
       "      <td>sales</td>\n",
       "      <td>low</td>\n",
       "    </tr>\n",
       "  </tbody>\n",
       "</table>\n",
       "</div>"
      ],
      "text/plain": [
       "   satisfactoryLevel  lastEvaluation  numberOfProjects  avgMonthlyHours  \\\n",
       "0               0.38            0.53                 2              157   \n",
       "1               0.80            0.86                 5              262   \n",
       "2               0.11            0.88                 7              272   \n",
       "3               0.37            0.52                 2              159   \n",
       "4               0.41            0.50                 2              153   \n",
       "\n",
       "   timeSpent.company  workAccident  left  promotionInLast5years   dept  salary  \n",
       "0                  3             0     1                      0  sales     low  \n",
       "1                  6             0     1                      0  sales  medium  \n",
       "2                  4             0     1                      0  sales  medium  \n",
       "3                  3             0     1                      0  sales     low  \n",
       "4                  3             0     1                      0  sales     low  "
      ]
     },
     "execution_count": 93,
     "metadata": {},
     "output_type": "execute_result"
    }
   ],
   "source": [
    "pcc=pd.read_csv(\"C:/Shakeer/ML/Assignment 2/Assignment2_PGD B7/People Charm case.csv\")\n",
    "pcc.head()"
   ]
  },
  {
   "cell_type": "code",
   "execution_count": 94,
   "metadata": {},
   "outputs": [
    {
     "data": {
      "text/plain": [
       "(14999, 10)"
      ]
     },
     "execution_count": 94,
     "metadata": {},
     "output_type": "execute_result"
    }
   ],
   "source": [
    "pcc.shape"
   ]
  },
  {
   "cell_type": "code",
   "execution_count": 95,
   "metadata": {},
   "outputs": [
    {
     "name": "stdout",
     "output_type": "stream",
     "text": [
      "<class 'pandas.core.frame.DataFrame'>\n",
      "RangeIndex: 14999 entries, 0 to 14998\n",
      "Data columns (total 10 columns):\n",
      "satisfactoryLevel        14999 non-null float64\n",
      "lastEvaluation           14999 non-null float64\n",
      "numberOfProjects         14999 non-null int64\n",
      "avgMonthlyHours          14999 non-null int64\n",
      "timeSpent.company        14999 non-null int64\n",
      "workAccident             14999 non-null int64\n",
      "left                     14999 non-null int64\n",
      "promotionInLast5years    14999 non-null int64\n",
      "dept                     14999 non-null object\n",
      "salary                   14999 non-null object\n",
      "dtypes: float64(2), int64(6), object(2)\n",
      "memory usage: 1.1+ MB\n"
     ]
    }
   ],
   "source": [
    "pcc.info()"
   ]
  },
  {
   "cell_type": "markdown",
   "metadata": {},
   "source": [
    "- No Null values exists in the data"
   ]
  },
  {
   "cell_type": "code",
   "execution_count": 96,
   "metadata": {},
   "outputs": [
    {
     "data": {
      "text/plain": [
       "array(['sales', 'accounting', 'hr', 'technical', 'support', 'IT',\n",
       "       'product_mng', 'marketing', 'management', 'RandD'], dtype=object)"
      ]
     },
     "execution_count": 96,
     "metadata": {},
     "output_type": "execute_result"
    }
   ],
   "source": [
    "pcc['dept'].unique()"
   ]
  },
  {
   "cell_type": "markdown",
   "metadata": {},
   "source": [
    "# Converting categorical to numerical columns\n",
    "- Using LabelEncoder\n",
    "- using get_dummies"
   ]
  },
  {
   "cell_type": "code",
   "execution_count": 97,
   "metadata": {
    "scrolled": true
   },
   "outputs": [],
   "source": [
    "from sklearn.preprocessing import LabelEncoder\n",
    "lb=LabelEncoder()\n",
    "pcc['salary']=pd.DataFrame(lb.fit_transform(pcc['salary']))"
   ]
  },
  {
   "cell_type": "code",
   "execution_count": 98,
   "metadata": {
    "scrolled": true
   },
   "outputs": [
    {
     "data": {
      "text/html": [
       "<div>\n",
       "<style scoped>\n",
       "    .dataframe tbody tr th:only-of-type {\n",
       "        vertical-align: middle;\n",
       "    }\n",
       "\n",
       "    .dataframe tbody tr th {\n",
       "        vertical-align: top;\n",
       "    }\n",
       "\n",
       "    .dataframe thead th {\n",
       "        text-align: right;\n",
       "    }\n",
       "</style>\n",
       "<table border=\"1\" class=\"dataframe\">\n",
       "  <thead>\n",
       "    <tr style=\"text-align: right;\">\n",
       "      <th></th>\n",
       "      <th>satisfactoryLevel</th>\n",
       "      <th>lastEvaluation</th>\n",
       "      <th>numberOfProjects</th>\n",
       "      <th>avgMonthlyHours</th>\n",
       "      <th>timeSpent.company</th>\n",
       "      <th>workAccident</th>\n",
       "      <th>left</th>\n",
       "      <th>promotionInLast5years</th>\n",
       "      <th>dept</th>\n",
       "      <th>salary</th>\n",
       "    </tr>\n",
       "  </thead>\n",
       "  <tbody>\n",
       "    <tr>\n",
       "      <th>0</th>\n",
       "      <td>0.38</td>\n",
       "      <td>0.53</td>\n",
       "      <td>2</td>\n",
       "      <td>157</td>\n",
       "      <td>3</td>\n",
       "      <td>0</td>\n",
       "      <td>1</td>\n",
       "      <td>0</td>\n",
       "      <td>sales</td>\n",
       "      <td>1</td>\n",
       "    </tr>\n",
       "    <tr>\n",
       "      <th>1</th>\n",
       "      <td>0.80</td>\n",
       "      <td>0.86</td>\n",
       "      <td>5</td>\n",
       "      <td>262</td>\n",
       "      <td>6</td>\n",
       "      <td>0</td>\n",
       "      <td>1</td>\n",
       "      <td>0</td>\n",
       "      <td>sales</td>\n",
       "      <td>2</td>\n",
       "    </tr>\n",
       "    <tr>\n",
       "      <th>2</th>\n",
       "      <td>0.11</td>\n",
       "      <td>0.88</td>\n",
       "      <td>7</td>\n",
       "      <td>272</td>\n",
       "      <td>4</td>\n",
       "      <td>0</td>\n",
       "      <td>1</td>\n",
       "      <td>0</td>\n",
       "      <td>sales</td>\n",
       "      <td>2</td>\n",
       "    </tr>\n",
       "    <tr>\n",
       "      <th>3</th>\n",
       "      <td>0.37</td>\n",
       "      <td>0.52</td>\n",
       "      <td>2</td>\n",
       "      <td>159</td>\n",
       "      <td>3</td>\n",
       "      <td>0</td>\n",
       "      <td>1</td>\n",
       "      <td>0</td>\n",
       "      <td>sales</td>\n",
       "      <td>1</td>\n",
       "    </tr>\n",
       "    <tr>\n",
       "      <th>4</th>\n",
       "      <td>0.41</td>\n",
       "      <td>0.50</td>\n",
       "      <td>2</td>\n",
       "      <td>153</td>\n",
       "      <td>3</td>\n",
       "      <td>0</td>\n",
       "      <td>1</td>\n",
       "      <td>0</td>\n",
       "      <td>sales</td>\n",
       "      <td>1</td>\n",
       "    </tr>\n",
       "    <tr>\n",
       "      <th>5</th>\n",
       "      <td>0.10</td>\n",
       "      <td>0.77</td>\n",
       "      <td>6</td>\n",
       "      <td>247</td>\n",
       "      <td>4</td>\n",
       "      <td>0</td>\n",
       "      <td>1</td>\n",
       "      <td>0</td>\n",
       "      <td>sales</td>\n",
       "      <td>1</td>\n",
       "    </tr>\n",
       "    <tr>\n",
       "      <th>6</th>\n",
       "      <td>0.92</td>\n",
       "      <td>0.85</td>\n",
       "      <td>5</td>\n",
       "      <td>259</td>\n",
       "      <td>5</td>\n",
       "      <td>0</td>\n",
       "      <td>1</td>\n",
       "      <td>0</td>\n",
       "      <td>sales</td>\n",
       "      <td>1</td>\n",
       "    </tr>\n",
       "    <tr>\n",
       "      <th>7</th>\n",
       "      <td>0.42</td>\n",
       "      <td>0.53</td>\n",
       "      <td>2</td>\n",
       "      <td>142</td>\n",
       "      <td>3</td>\n",
       "      <td>0</td>\n",
       "      <td>1</td>\n",
       "      <td>0</td>\n",
       "      <td>sales</td>\n",
       "      <td>1</td>\n",
       "    </tr>\n",
       "    <tr>\n",
       "      <th>8</th>\n",
       "      <td>0.45</td>\n",
       "      <td>0.54</td>\n",
       "      <td>2</td>\n",
       "      <td>135</td>\n",
       "      <td>3</td>\n",
       "      <td>0</td>\n",
       "      <td>1</td>\n",
       "      <td>0</td>\n",
       "      <td>sales</td>\n",
       "      <td>1</td>\n",
       "    </tr>\n",
       "    <tr>\n",
       "      <th>9</th>\n",
       "      <td>0.11</td>\n",
       "      <td>0.81</td>\n",
       "      <td>6</td>\n",
       "      <td>305</td>\n",
       "      <td>4</td>\n",
       "      <td>0</td>\n",
       "      <td>1</td>\n",
       "      <td>0</td>\n",
       "      <td>sales</td>\n",
       "      <td>1</td>\n",
       "    </tr>\n",
       "    <tr>\n",
       "      <th>10</th>\n",
       "      <td>0.36</td>\n",
       "      <td>0.56</td>\n",
       "      <td>2</td>\n",
       "      <td>137</td>\n",
       "      <td>3</td>\n",
       "      <td>0</td>\n",
       "      <td>1</td>\n",
       "      <td>0</td>\n",
       "      <td>sales</td>\n",
       "      <td>1</td>\n",
       "    </tr>\n",
       "    <tr>\n",
       "      <th>11</th>\n",
       "      <td>0.38</td>\n",
       "      <td>0.54</td>\n",
       "      <td>2</td>\n",
       "      <td>143</td>\n",
       "      <td>3</td>\n",
       "      <td>0</td>\n",
       "      <td>1</td>\n",
       "      <td>0</td>\n",
       "      <td>sales</td>\n",
       "      <td>1</td>\n",
       "    </tr>\n",
       "    <tr>\n",
       "      <th>12</th>\n",
       "      <td>0.45</td>\n",
       "      <td>0.47</td>\n",
       "      <td>2</td>\n",
       "      <td>160</td>\n",
       "      <td>3</td>\n",
       "      <td>0</td>\n",
       "      <td>1</td>\n",
       "      <td>0</td>\n",
       "      <td>sales</td>\n",
       "      <td>1</td>\n",
       "    </tr>\n",
       "    <tr>\n",
       "      <th>13</th>\n",
       "      <td>0.78</td>\n",
       "      <td>0.99</td>\n",
       "      <td>4</td>\n",
       "      <td>255</td>\n",
       "      <td>6</td>\n",
       "      <td>0</td>\n",
       "      <td>1</td>\n",
       "      <td>0</td>\n",
       "      <td>sales</td>\n",
       "      <td>1</td>\n",
       "    </tr>\n",
       "    <tr>\n",
       "      <th>14</th>\n",
       "      <td>0.76</td>\n",
       "      <td>0.89</td>\n",
       "      <td>5</td>\n",
       "      <td>262</td>\n",
       "      <td>5</td>\n",
       "      <td>0</td>\n",
       "      <td>1</td>\n",
       "      <td>0</td>\n",
       "      <td>sales</td>\n",
       "      <td>1</td>\n",
       "    </tr>\n",
       "    <tr>\n",
       "      <th>15</th>\n",
       "      <td>0.11</td>\n",
       "      <td>0.83</td>\n",
       "      <td>6</td>\n",
       "      <td>282</td>\n",
       "      <td>4</td>\n",
       "      <td>0</td>\n",
       "      <td>1</td>\n",
       "      <td>0</td>\n",
       "      <td>sales</td>\n",
       "      <td>1</td>\n",
       "    </tr>\n",
       "    <tr>\n",
       "      <th>16</th>\n",
       "      <td>0.09</td>\n",
       "      <td>0.95</td>\n",
       "      <td>6</td>\n",
       "      <td>304</td>\n",
       "      <td>4</td>\n",
       "      <td>0</td>\n",
       "      <td>1</td>\n",
       "      <td>0</td>\n",
       "      <td>sales</td>\n",
       "      <td>1</td>\n",
       "    </tr>\n",
       "    <tr>\n",
       "      <th>17</th>\n",
       "      <td>0.46</td>\n",
       "      <td>0.57</td>\n",
       "      <td>2</td>\n",
       "      <td>139</td>\n",
       "      <td>3</td>\n",
       "      <td>0</td>\n",
       "      <td>1</td>\n",
       "      <td>0</td>\n",
       "      <td>sales</td>\n",
       "      <td>1</td>\n",
       "    </tr>\n",
       "    <tr>\n",
       "      <th>18</th>\n",
       "      <td>0.40</td>\n",
       "      <td>0.53</td>\n",
       "      <td>2</td>\n",
       "      <td>158</td>\n",
       "      <td>3</td>\n",
       "      <td>0</td>\n",
       "      <td>1</td>\n",
       "      <td>0</td>\n",
       "      <td>sales</td>\n",
       "      <td>1</td>\n",
       "    </tr>\n",
       "    <tr>\n",
       "      <th>19</th>\n",
       "      <td>0.89</td>\n",
       "      <td>0.92</td>\n",
       "      <td>5</td>\n",
       "      <td>242</td>\n",
       "      <td>5</td>\n",
       "      <td>0</td>\n",
       "      <td>1</td>\n",
       "      <td>0</td>\n",
       "      <td>sales</td>\n",
       "      <td>1</td>\n",
       "    </tr>\n",
       "    <tr>\n",
       "      <th>20</th>\n",
       "      <td>0.82</td>\n",
       "      <td>0.87</td>\n",
       "      <td>4</td>\n",
       "      <td>239</td>\n",
       "      <td>5</td>\n",
       "      <td>0</td>\n",
       "      <td>1</td>\n",
       "      <td>0</td>\n",
       "      <td>sales</td>\n",
       "      <td>1</td>\n",
       "    </tr>\n",
       "    <tr>\n",
       "      <th>21</th>\n",
       "      <td>0.40</td>\n",
       "      <td>0.49</td>\n",
       "      <td>2</td>\n",
       "      <td>135</td>\n",
       "      <td>3</td>\n",
       "      <td>0</td>\n",
       "      <td>1</td>\n",
       "      <td>0</td>\n",
       "      <td>sales</td>\n",
       "      <td>1</td>\n",
       "    </tr>\n",
       "    <tr>\n",
       "      <th>22</th>\n",
       "      <td>0.38</td>\n",
       "      <td>0.50</td>\n",
       "      <td>2</td>\n",
       "      <td>132</td>\n",
       "      <td>3</td>\n",
       "      <td>0</td>\n",
       "      <td>1</td>\n",
       "      <td>0</td>\n",
       "      <td>accounting</td>\n",
       "      <td>1</td>\n",
       "    </tr>\n",
       "    <tr>\n",
       "      <th>23</th>\n",
       "      <td>0.09</td>\n",
       "      <td>0.62</td>\n",
       "      <td>6</td>\n",
       "      <td>294</td>\n",
       "      <td>4</td>\n",
       "      <td>0</td>\n",
       "      <td>1</td>\n",
       "      <td>0</td>\n",
       "      <td>accounting</td>\n",
       "      <td>1</td>\n",
       "    </tr>\n",
       "    <tr>\n",
       "      <th>24</th>\n",
       "      <td>0.45</td>\n",
       "      <td>0.57</td>\n",
       "      <td>2</td>\n",
       "      <td>134</td>\n",
       "      <td>3</td>\n",
       "      <td>0</td>\n",
       "      <td>1</td>\n",
       "      <td>0</td>\n",
       "      <td>hr</td>\n",
       "      <td>1</td>\n",
       "    </tr>\n",
       "    <tr>\n",
       "      <th>25</th>\n",
       "      <td>0.40</td>\n",
       "      <td>0.51</td>\n",
       "      <td>2</td>\n",
       "      <td>145</td>\n",
       "      <td>3</td>\n",
       "      <td>0</td>\n",
       "      <td>1</td>\n",
       "      <td>0</td>\n",
       "      <td>hr</td>\n",
       "      <td>1</td>\n",
       "    </tr>\n",
       "    <tr>\n",
       "      <th>26</th>\n",
       "      <td>0.84</td>\n",
       "      <td>0.87</td>\n",
       "      <td>4</td>\n",
       "      <td>246</td>\n",
       "      <td>6</td>\n",
       "      <td>0</td>\n",
       "      <td>1</td>\n",
       "      <td>0</td>\n",
       "      <td>hr</td>\n",
       "      <td>1</td>\n",
       "    </tr>\n",
       "    <tr>\n",
       "      <th>27</th>\n",
       "      <td>0.38</td>\n",
       "      <td>0.46</td>\n",
       "      <td>2</td>\n",
       "      <td>137</td>\n",
       "      <td>3</td>\n",
       "      <td>0</td>\n",
       "      <td>1</td>\n",
       "      <td>0</td>\n",
       "      <td>technical</td>\n",
       "      <td>1</td>\n",
       "    </tr>\n",
       "    <tr>\n",
       "      <th>28</th>\n",
       "      <td>0.45</td>\n",
       "      <td>0.50</td>\n",
       "      <td>2</td>\n",
       "      <td>126</td>\n",
       "      <td>3</td>\n",
       "      <td>0</td>\n",
       "      <td>1</td>\n",
       "      <td>0</td>\n",
       "      <td>technical</td>\n",
       "      <td>1</td>\n",
       "    </tr>\n",
       "    <tr>\n",
       "      <th>29</th>\n",
       "      <td>0.11</td>\n",
       "      <td>0.89</td>\n",
       "      <td>6</td>\n",
       "      <td>306</td>\n",
       "      <td>4</td>\n",
       "      <td>0</td>\n",
       "      <td>1</td>\n",
       "      <td>0</td>\n",
       "      <td>technical</td>\n",
       "      <td>1</td>\n",
       "    </tr>\n",
       "    <tr>\n",
       "      <th>...</th>\n",
       "      <td>...</td>\n",
       "      <td>...</td>\n",
       "      <td>...</td>\n",
       "      <td>...</td>\n",
       "      <td>...</td>\n",
       "      <td>...</td>\n",
       "      <td>...</td>\n",
       "      <td>...</td>\n",
       "      <td>...</td>\n",
       "      <td>...</td>\n",
       "    </tr>\n",
       "    <tr>\n",
       "      <th>14969</th>\n",
       "      <td>0.22</td>\n",
       "      <td>0.91</td>\n",
       "      <td>6</td>\n",
       "      <td>222</td>\n",
       "      <td>8</td>\n",
       "      <td>0</td>\n",
       "      <td>0</td>\n",
       "      <td>0</td>\n",
       "      <td>technical</td>\n",
       "      <td>1</td>\n",
       "    </tr>\n",
       "    <tr>\n",
       "      <th>14970</th>\n",
       "      <td>0.43</td>\n",
       "      <td>0.48</td>\n",
       "      <td>2</td>\n",
       "      <td>135</td>\n",
       "      <td>3</td>\n",
       "      <td>0</td>\n",
       "      <td>1</td>\n",
       "      <td>0</td>\n",
       "      <td>sales</td>\n",
       "      <td>2</td>\n",
       "    </tr>\n",
       "    <tr>\n",
       "      <th>14971</th>\n",
       "      <td>0.42</td>\n",
       "      <td>0.48</td>\n",
       "      <td>2</td>\n",
       "      <td>143</td>\n",
       "      <td>3</td>\n",
       "      <td>0</td>\n",
       "      <td>1</td>\n",
       "      <td>0</td>\n",
       "      <td>sales</td>\n",
       "      <td>1</td>\n",
       "    </tr>\n",
       "    <tr>\n",
       "      <th>14972</th>\n",
       "      <td>0.82</td>\n",
       "      <td>0.97</td>\n",
       "      <td>4</td>\n",
       "      <td>243</td>\n",
       "      <td>3</td>\n",
       "      <td>1</td>\n",
       "      <td>0</td>\n",
       "      <td>0</td>\n",
       "      <td>technical</td>\n",
       "      <td>1</td>\n",
       "    </tr>\n",
       "    <tr>\n",
       "      <th>14973</th>\n",
       "      <td>0.73</td>\n",
       "      <td>0.60</td>\n",
       "      <td>3</td>\n",
       "      <td>145</td>\n",
       "      <td>6</td>\n",
       "      <td>1</td>\n",
       "      <td>0</td>\n",
       "      <td>0</td>\n",
       "      <td>technical</td>\n",
       "      <td>2</td>\n",
       "    </tr>\n",
       "    <tr>\n",
       "      <th>14974</th>\n",
       "      <td>0.10</td>\n",
       "      <td>0.55</td>\n",
       "      <td>2</td>\n",
       "      <td>247</td>\n",
       "      <td>4</td>\n",
       "      <td>0</td>\n",
       "      <td>1</td>\n",
       "      <td>0</td>\n",
       "      <td>sales</td>\n",
       "      <td>2</td>\n",
       "    </tr>\n",
       "    <tr>\n",
       "      <th>14975</th>\n",
       "      <td>0.57</td>\n",
       "      <td>1.00</td>\n",
       "      <td>3</td>\n",
       "      <td>241</td>\n",
       "      <td>4</td>\n",
       "      <td>0</td>\n",
       "      <td>0</td>\n",
       "      <td>0</td>\n",
       "      <td>technical</td>\n",
       "      <td>1</td>\n",
       "    </tr>\n",
       "    <tr>\n",
       "      <th>14976</th>\n",
       "      <td>0.97</td>\n",
       "      <td>0.66</td>\n",
       "      <td>4</td>\n",
       "      <td>218</td>\n",
       "      <td>3</td>\n",
       "      <td>0</td>\n",
       "      <td>0</td>\n",
       "      <td>0</td>\n",
       "      <td>sales</td>\n",
       "      <td>0</td>\n",
       "    </tr>\n",
       "    <tr>\n",
       "      <th>14977</th>\n",
       "      <td>0.21</td>\n",
       "      <td>0.62</td>\n",
       "      <td>4</td>\n",
       "      <td>247</td>\n",
       "      <td>3</td>\n",
       "      <td>1</td>\n",
       "      <td>0</td>\n",
       "      <td>0</td>\n",
       "      <td>product_mng</td>\n",
       "      <td>1</td>\n",
       "    </tr>\n",
       "    <tr>\n",
       "      <th>14978</th>\n",
       "      <td>0.64</td>\n",
       "      <td>0.50</td>\n",
       "      <td>3</td>\n",
       "      <td>238</td>\n",
       "      <td>4</td>\n",
       "      <td>0</td>\n",
       "      <td>0</td>\n",
       "      <td>0</td>\n",
       "      <td>technical</td>\n",
       "      <td>1</td>\n",
       "    </tr>\n",
       "    <tr>\n",
       "      <th>14979</th>\n",
       "      <td>0.37</td>\n",
       "      <td>0.46</td>\n",
       "      <td>2</td>\n",
       "      <td>149</td>\n",
       "      <td>3</td>\n",
       "      <td>0</td>\n",
       "      <td>1</td>\n",
       "      <td>0</td>\n",
       "      <td>marketing</td>\n",
       "      <td>0</td>\n",
       "    </tr>\n",
       "    <tr>\n",
       "      <th>14980</th>\n",
       "      <td>0.88</td>\n",
       "      <td>0.75</td>\n",
       "      <td>4</td>\n",
       "      <td>201</td>\n",
       "      <td>2</td>\n",
       "      <td>0</td>\n",
       "      <td>0</td>\n",
       "      <td>0</td>\n",
       "      <td>sales</td>\n",
       "      <td>2</td>\n",
       "    </tr>\n",
       "    <tr>\n",
       "      <th>14981</th>\n",
       "      <td>0.97</td>\n",
       "      <td>0.55</td>\n",
       "      <td>4</td>\n",
       "      <td>166</td>\n",
       "      <td>3</td>\n",
       "      <td>1</td>\n",
       "      <td>0</td>\n",
       "      <td>0</td>\n",
       "      <td>accounting</td>\n",
       "      <td>0</td>\n",
       "    </tr>\n",
       "    <tr>\n",
       "      <th>14982</th>\n",
       "      <td>0.88</td>\n",
       "      <td>0.80</td>\n",
       "      <td>3</td>\n",
       "      <td>133</td>\n",
       "      <td>3</td>\n",
       "      <td>0</td>\n",
       "      <td>0</td>\n",
       "      <td>0</td>\n",
       "      <td>product_mng</td>\n",
       "      <td>2</td>\n",
       "    </tr>\n",
       "    <tr>\n",
       "      <th>14983</th>\n",
       "      <td>0.77</td>\n",
       "      <td>0.67</td>\n",
       "      <td>3</td>\n",
       "      <td>186</td>\n",
       "      <td>2</td>\n",
       "      <td>0</td>\n",
       "      <td>0</td>\n",
       "      <td>0</td>\n",
       "      <td>technical</td>\n",
       "      <td>1</td>\n",
       "    </tr>\n",
       "    <tr>\n",
       "      <th>14984</th>\n",
       "      <td>0.62</td>\n",
       "      <td>0.71</td>\n",
       "      <td>4</td>\n",
       "      <td>268</td>\n",
       "      <td>3</td>\n",
       "      <td>0</td>\n",
       "      <td>0</td>\n",
       "      <td>0</td>\n",
       "      <td>technical</td>\n",
       "      <td>1</td>\n",
       "    </tr>\n",
       "    <tr>\n",
       "      <th>14985</th>\n",
       "      <td>0.95</td>\n",
       "      <td>0.84</td>\n",
       "      <td>3</td>\n",
       "      <td>270</td>\n",
       "      <td>3</td>\n",
       "      <td>1</td>\n",
       "      <td>0</td>\n",
       "      <td>1</td>\n",
       "      <td>sales</td>\n",
       "      <td>2</td>\n",
       "    </tr>\n",
       "    <tr>\n",
       "      <th>14986</th>\n",
       "      <td>0.76</td>\n",
       "      <td>1.00</td>\n",
       "      <td>4</td>\n",
       "      <td>220</td>\n",
       "      <td>6</td>\n",
       "      <td>0</td>\n",
       "      <td>1</td>\n",
       "      <td>0</td>\n",
       "      <td>RandD</td>\n",
       "      <td>2</td>\n",
       "    </tr>\n",
       "    <tr>\n",
       "      <th>14987</th>\n",
       "      <td>0.37</td>\n",
       "      <td>0.45</td>\n",
       "      <td>2</td>\n",
       "      <td>126</td>\n",
       "      <td>3</td>\n",
       "      <td>0</td>\n",
       "      <td>1</td>\n",
       "      <td>0</td>\n",
       "      <td>support</td>\n",
       "      <td>2</td>\n",
       "    </tr>\n",
       "    <tr>\n",
       "      <th>14988</th>\n",
       "      <td>0.43</td>\n",
       "      <td>0.57</td>\n",
       "      <td>2</td>\n",
       "      <td>157</td>\n",
       "      <td>3</td>\n",
       "      <td>0</td>\n",
       "      <td>1</td>\n",
       "      <td>0</td>\n",
       "      <td>sales</td>\n",
       "      <td>1</td>\n",
       "    </tr>\n",
       "    <tr>\n",
       "      <th>14989</th>\n",
       "      <td>0.69</td>\n",
       "      <td>0.70</td>\n",
       "      <td>3</td>\n",
       "      <td>212</td>\n",
       "      <td>2</td>\n",
       "      <td>0</td>\n",
       "      <td>0</td>\n",
       "      <td>0</td>\n",
       "      <td>product_mng</td>\n",
       "      <td>2</td>\n",
       "    </tr>\n",
       "    <tr>\n",
       "      <th>14990</th>\n",
       "      <td>0.73</td>\n",
       "      <td>0.52</td>\n",
       "      <td>3</td>\n",
       "      <td>274</td>\n",
       "      <td>2</td>\n",
       "      <td>0</td>\n",
       "      <td>0</td>\n",
       "      <td>0</td>\n",
       "      <td>technical</td>\n",
       "      <td>0</td>\n",
       "    </tr>\n",
       "    <tr>\n",
       "      <th>14991</th>\n",
       "      <td>0.85</td>\n",
       "      <td>0.53</td>\n",
       "      <td>3</td>\n",
       "      <td>250</td>\n",
       "      <td>3</td>\n",
       "      <td>0</td>\n",
       "      <td>0</td>\n",
       "      <td>0</td>\n",
       "      <td>IT</td>\n",
       "      <td>2</td>\n",
       "    </tr>\n",
       "    <tr>\n",
       "      <th>14992</th>\n",
       "      <td>0.30</td>\n",
       "      <td>0.88</td>\n",
       "      <td>5</td>\n",
       "      <td>245</td>\n",
       "      <td>4</td>\n",
       "      <td>0</td>\n",
       "      <td>0</td>\n",
       "      <td>0</td>\n",
       "      <td>hr</td>\n",
       "      <td>1</td>\n",
       "    </tr>\n",
       "    <tr>\n",
       "      <th>14993</th>\n",
       "      <td>0.61</td>\n",
       "      <td>0.89</td>\n",
       "      <td>3</td>\n",
       "      <td>242</td>\n",
       "      <td>10</td>\n",
       "      <td>0</td>\n",
       "      <td>0</td>\n",
       "      <td>0</td>\n",
       "      <td>sales</td>\n",
       "      <td>0</td>\n",
       "    </tr>\n",
       "    <tr>\n",
       "      <th>14994</th>\n",
       "      <td>0.11</td>\n",
       "      <td>0.85</td>\n",
       "      <td>7</td>\n",
       "      <td>275</td>\n",
       "      <td>4</td>\n",
       "      <td>0</td>\n",
       "      <td>1</td>\n",
       "      <td>0</td>\n",
       "      <td>support</td>\n",
       "      <td>2</td>\n",
       "    </tr>\n",
       "    <tr>\n",
       "      <th>14995</th>\n",
       "      <td>0.99</td>\n",
       "      <td>0.83</td>\n",
       "      <td>4</td>\n",
       "      <td>274</td>\n",
       "      <td>2</td>\n",
       "      <td>0</td>\n",
       "      <td>0</td>\n",
       "      <td>0</td>\n",
       "      <td>sales</td>\n",
       "      <td>1</td>\n",
       "    </tr>\n",
       "    <tr>\n",
       "      <th>14996</th>\n",
       "      <td>0.72</td>\n",
       "      <td>0.72</td>\n",
       "      <td>4</td>\n",
       "      <td>175</td>\n",
       "      <td>4</td>\n",
       "      <td>0</td>\n",
       "      <td>0</td>\n",
       "      <td>0</td>\n",
       "      <td>technical</td>\n",
       "      <td>1</td>\n",
       "    </tr>\n",
       "    <tr>\n",
       "      <th>14997</th>\n",
       "      <td>0.24</td>\n",
       "      <td>0.91</td>\n",
       "      <td>5</td>\n",
       "      <td>177</td>\n",
       "      <td>5</td>\n",
       "      <td>0</td>\n",
       "      <td>0</td>\n",
       "      <td>0</td>\n",
       "      <td>sales</td>\n",
       "      <td>1</td>\n",
       "    </tr>\n",
       "    <tr>\n",
       "      <th>14998</th>\n",
       "      <td>0.77</td>\n",
       "      <td>0.83</td>\n",
       "      <td>6</td>\n",
       "      <td>271</td>\n",
       "      <td>3</td>\n",
       "      <td>0</td>\n",
       "      <td>0</td>\n",
       "      <td>0</td>\n",
       "      <td>support</td>\n",
       "      <td>1</td>\n",
       "    </tr>\n",
       "  </tbody>\n",
       "</table>\n",
       "<p>14999 rows × 10 columns</p>\n",
       "</div>"
      ],
      "text/plain": [
       "       satisfactoryLevel  lastEvaluation  numberOfProjects  avgMonthlyHours  \\\n",
       "0                   0.38            0.53                 2              157   \n",
       "1                   0.80            0.86                 5              262   \n",
       "2                   0.11            0.88                 7              272   \n",
       "3                   0.37            0.52                 2              159   \n",
       "4                   0.41            0.50                 2              153   \n",
       "5                   0.10            0.77                 6              247   \n",
       "6                   0.92            0.85                 5              259   \n",
       "7                   0.42            0.53                 2              142   \n",
       "8                   0.45            0.54                 2              135   \n",
       "9                   0.11            0.81                 6              305   \n",
       "10                  0.36            0.56                 2              137   \n",
       "11                  0.38            0.54                 2              143   \n",
       "12                  0.45            0.47                 2              160   \n",
       "13                  0.78            0.99                 4              255   \n",
       "14                  0.76            0.89                 5              262   \n",
       "15                  0.11            0.83                 6              282   \n",
       "16                  0.09            0.95                 6              304   \n",
       "17                  0.46            0.57                 2              139   \n",
       "18                  0.40            0.53                 2              158   \n",
       "19                  0.89            0.92                 5              242   \n",
       "20                  0.82            0.87                 4              239   \n",
       "21                  0.40            0.49                 2              135   \n",
       "22                  0.38            0.50                 2              132   \n",
       "23                  0.09            0.62                 6              294   \n",
       "24                  0.45            0.57                 2              134   \n",
       "25                  0.40            0.51                 2              145   \n",
       "26                  0.84            0.87                 4              246   \n",
       "27                  0.38            0.46                 2              137   \n",
       "28                  0.45            0.50                 2              126   \n",
       "29                  0.11            0.89                 6              306   \n",
       "...                  ...             ...               ...              ...   \n",
       "14969               0.22            0.91                 6              222   \n",
       "14970               0.43            0.48                 2              135   \n",
       "14971               0.42            0.48                 2              143   \n",
       "14972               0.82            0.97                 4              243   \n",
       "14973               0.73            0.60                 3              145   \n",
       "14974               0.10            0.55                 2              247   \n",
       "14975               0.57            1.00                 3              241   \n",
       "14976               0.97            0.66                 4              218   \n",
       "14977               0.21            0.62                 4              247   \n",
       "14978               0.64            0.50                 3              238   \n",
       "14979               0.37            0.46                 2              149   \n",
       "14980               0.88            0.75                 4              201   \n",
       "14981               0.97            0.55                 4              166   \n",
       "14982               0.88            0.80                 3              133   \n",
       "14983               0.77            0.67                 3              186   \n",
       "14984               0.62            0.71                 4              268   \n",
       "14985               0.95            0.84                 3              270   \n",
       "14986               0.76            1.00                 4              220   \n",
       "14987               0.37            0.45                 2              126   \n",
       "14988               0.43            0.57                 2              157   \n",
       "14989               0.69            0.70                 3              212   \n",
       "14990               0.73            0.52                 3              274   \n",
       "14991               0.85            0.53                 3              250   \n",
       "14992               0.30            0.88                 5              245   \n",
       "14993               0.61            0.89                 3              242   \n",
       "14994               0.11            0.85                 7              275   \n",
       "14995               0.99            0.83                 4              274   \n",
       "14996               0.72            0.72                 4              175   \n",
       "14997               0.24            0.91                 5              177   \n",
       "14998               0.77            0.83                 6              271   \n",
       "\n",
       "       timeSpent.company  workAccident  left  promotionInLast5years  \\\n",
       "0                      3             0     1                      0   \n",
       "1                      6             0     1                      0   \n",
       "2                      4             0     1                      0   \n",
       "3                      3             0     1                      0   \n",
       "4                      3             0     1                      0   \n",
       "5                      4             0     1                      0   \n",
       "6                      5             0     1                      0   \n",
       "7                      3             0     1                      0   \n",
       "8                      3             0     1                      0   \n",
       "9                      4             0     1                      0   \n",
       "10                     3             0     1                      0   \n",
       "11                     3             0     1                      0   \n",
       "12                     3             0     1                      0   \n",
       "13                     6             0     1                      0   \n",
       "14                     5             0     1                      0   \n",
       "15                     4             0     1                      0   \n",
       "16                     4             0     1                      0   \n",
       "17                     3             0     1                      0   \n",
       "18                     3             0     1                      0   \n",
       "19                     5             0     1                      0   \n",
       "20                     5             0     1                      0   \n",
       "21                     3             0     1                      0   \n",
       "22                     3             0     1                      0   \n",
       "23                     4             0     1                      0   \n",
       "24                     3             0     1                      0   \n",
       "25                     3             0     1                      0   \n",
       "26                     6             0     1                      0   \n",
       "27                     3             0     1                      0   \n",
       "28                     3             0     1                      0   \n",
       "29                     4             0     1                      0   \n",
       "...                  ...           ...   ...                    ...   \n",
       "14969                  8             0     0                      0   \n",
       "14970                  3             0     1                      0   \n",
       "14971                  3             0     1                      0   \n",
       "14972                  3             1     0                      0   \n",
       "14973                  6             1     0                      0   \n",
       "14974                  4             0     1                      0   \n",
       "14975                  4             0     0                      0   \n",
       "14976                  3             0     0                      0   \n",
       "14977                  3             1     0                      0   \n",
       "14978                  4             0     0                      0   \n",
       "14979                  3             0     1                      0   \n",
       "14980                  2             0     0                      0   \n",
       "14981                  3             1     0                      0   \n",
       "14982                  3             0     0                      0   \n",
       "14983                  2             0     0                      0   \n",
       "14984                  3             0     0                      0   \n",
       "14985                  3             1     0                      1   \n",
       "14986                  6             0     1                      0   \n",
       "14987                  3             0     1                      0   \n",
       "14988                  3             0     1                      0   \n",
       "14989                  2             0     0                      0   \n",
       "14990                  2             0     0                      0   \n",
       "14991                  3             0     0                      0   \n",
       "14992                  4             0     0                      0   \n",
       "14993                 10             0     0                      0   \n",
       "14994                  4             0     1                      0   \n",
       "14995                  2             0     0                      0   \n",
       "14996                  4             0     0                      0   \n",
       "14997                  5             0     0                      0   \n",
       "14998                  3             0     0                      0   \n",
       "\n",
       "              dept  salary  \n",
       "0            sales       1  \n",
       "1            sales       2  \n",
       "2            sales       2  \n",
       "3            sales       1  \n",
       "4            sales       1  \n",
       "5            sales       1  \n",
       "6            sales       1  \n",
       "7            sales       1  \n",
       "8            sales       1  \n",
       "9            sales       1  \n",
       "10           sales       1  \n",
       "11           sales       1  \n",
       "12           sales       1  \n",
       "13           sales       1  \n",
       "14           sales       1  \n",
       "15           sales       1  \n",
       "16           sales       1  \n",
       "17           sales       1  \n",
       "18           sales       1  \n",
       "19           sales       1  \n",
       "20           sales       1  \n",
       "21           sales       1  \n",
       "22      accounting       1  \n",
       "23      accounting       1  \n",
       "24              hr       1  \n",
       "25              hr       1  \n",
       "26              hr       1  \n",
       "27       technical       1  \n",
       "28       technical       1  \n",
       "29       technical       1  \n",
       "...            ...     ...  \n",
       "14969    technical       1  \n",
       "14970        sales       2  \n",
       "14971        sales       1  \n",
       "14972    technical       1  \n",
       "14973    technical       2  \n",
       "14974        sales       2  \n",
       "14975    technical       1  \n",
       "14976        sales       0  \n",
       "14977  product_mng       1  \n",
       "14978    technical       1  \n",
       "14979    marketing       0  \n",
       "14980        sales       2  \n",
       "14981   accounting       0  \n",
       "14982  product_mng       2  \n",
       "14983    technical       1  \n",
       "14984    technical       1  \n",
       "14985        sales       2  \n",
       "14986        RandD       2  \n",
       "14987      support       2  \n",
       "14988        sales       1  \n",
       "14989  product_mng       2  \n",
       "14990    technical       0  \n",
       "14991           IT       2  \n",
       "14992           hr       1  \n",
       "14993        sales       0  \n",
       "14994      support       2  \n",
       "14995        sales       1  \n",
       "14996    technical       1  \n",
       "14997        sales       1  \n",
       "14998      support       1  \n",
       "\n",
       "[14999 rows x 10 columns]"
      ]
     },
     "execution_count": 98,
     "metadata": {},
     "output_type": "execute_result"
    }
   ],
   "source": [
    "pcc"
   ]
  },
  {
   "cell_type": "code",
   "execution_count": 99,
   "metadata": {},
   "outputs": [],
   "source": [
    "pcc=pd.get_dummies(pcc,prefix=['dept'])"
   ]
  },
  {
   "cell_type": "code",
   "execution_count": 100,
   "metadata": {},
   "outputs": [
    {
     "data": {
      "text/plain": [
       "(14999, 19)"
      ]
     },
     "execution_count": 100,
     "metadata": {},
     "output_type": "execute_result"
    }
   ],
   "source": [
    "pcc.shape"
   ]
  },
  {
   "cell_type": "markdown",
   "metadata": {},
   "source": [
    "### duplicated() function is used to check whether there are any repeated rows exists in the data or not. \n",
    "### It returns a boolean value TRUE if duplicate rows exists"
   ]
  },
  {
   "cell_type": "code",
   "execution_count": 101,
   "metadata": {
    "scrolled": true
   },
   "outputs": [
    {
     "data": {
      "text/plain": [
       "0        False\n",
       "1        False\n",
       "2        False\n",
       "3        False\n",
       "4        False\n",
       "5        False\n",
       "6        False\n",
       "7        False\n",
       "8        False\n",
       "9        False\n",
       "10       False\n",
       "11       False\n",
       "12       False\n",
       "13       False\n",
       "14       False\n",
       "15       False\n",
       "16       False\n",
       "17       False\n",
       "18       False\n",
       "19       False\n",
       "20       False\n",
       "21       False\n",
       "22       False\n",
       "23       False\n",
       "24       False\n",
       "25       False\n",
       "26       False\n",
       "27       False\n",
       "28       False\n",
       "29       False\n",
       "         ...  \n",
       "14969     True\n",
       "14970     True\n",
       "14971     True\n",
       "14972    False\n",
       "14973    False\n",
       "14974     True\n",
       "14975    False\n",
       "14976    False\n",
       "14977    False\n",
       "14978    False\n",
       "14979     True\n",
       "14980    False\n",
       "14981    False\n",
       "14982    False\n",
       "14983    False\n",
       "14984     True\n",
       "14985     True\n",
       "14986    False\n",
       "14987     True\n",
       "14988     True\n",
       "14989    False\n",
       "14990    False\n",
       "14991    False\n",
       "14992    False\n",
       "14993     True\n",
       "14994     True\n",
       "14995    False\n",
       "14996    False\n",
       "14997    False\n",
       "14998    False\n",
       "Length: 14999, dtype: bool"
      ]
     },
     "execution_count": 101,
     "metadata": {},
     "output_type": "execute_result"
    }
   ],
   "source": [
    "pcc.duplicated()"
   ]
  },
  {
   "cell_type": "markdown",
   "metadata": {},
   "source": [
    "### drop_duplicates() function is used to drop the duplicate rows"
   ]
  },
  {
   "cell_type": "code",
   "execution_count": 102,
   "metadata": {},
   "outputs": [],
   "source": [
    "pcc.drop_duplicates(keep='first',inplace=True)"
   ]
  },
  {
   "cell_type": "markdown",
   "metadata": {},
   "source": [
    "### Dropping dependent Feature "
   ]
  },
  {
   "cell_type": "code",
   "execution_count": 103,
   "metadata": {
    "scrolled": true
   },
   "outputs": [],
   "source": [
    "pcc_new=pcc.drop(['left'],axis=1)"
   ]
  },
  {
   "cell_type": "code",
   "execution_count": 104,
   "metadata": {
    "scrolled": true
   },
   "outputs": [
    {
     "data": {
      "text/plain": [
       "(11991, 18)"
      ]
     },
     "execution_count": 104,
     "metadata": {},
     "output_type": "execute_result"
    }
   ],
   "source": [
    "pcc_new.shape"
   ]
  },
  {
   "cell_type": "markdown",
   "metadata": {},
   "source": [
    "### Checking the skewness"
   ]
  },
  {
   "cell_type": "code",
   "execution_count": 105,
   "metadata": {},
   "outputs": [
    {
     "data": {
      "text/plain": [
       "satisfactoryLevel       -0.538702\n",
       "lastEvaluation          -0.031686\n",
       "numberOfProjects         0.332152\n",
       "avgMonthlyHours          0.027208\n",
       "timeSpent.company        1.816577\n",
       "workAccident             1.914410\n",
       "promotionInLast5years    7.490008\n",
       "salary                  -0.446049\n",
       "dept_IT                  3.062158\n",
       "dept_RandD               3.787231\n",
       "dept_accounting          4.045725\n",
       "dept_hr                  4.124169\n",
       "dept_management          4.954409\n",
       "dept_marketing           3.857515\n",
       "dept_product_mng         3.813648\n",
       "dept_sales               1.035579\n",
       "dept_support             1.940320\n",
       "dept_technical           1.604510\n",
       "dtype: float64"
      ]
     },
     "execution_count": 105,
     "metadata": {},
     "output_type": "execute_result"
    }
   ],
   "source": [
    "pcc_new.skew()"
   ]
  },
  {
   "cell_type": "code",
   "execution_count": 106,
   "metadata": {},
   "outputs": [
    {
     "data": {
      "text/plain": [
       "Text(0.5, 0, 'Satisfaction level')"
      ]
     },
     "execution_count": 106,
     "metadata": {},
     "output_type": "execute_result"
    },
    {
     "data": {
      "image/png": "[encoded data removed]",
      "text/plain": [
       "<Figure size 1008x504 with 3 Axes>"
      ]
     },
     "metadata": {
      "needs_background": "light"
     },
     "output_type": "display_data"
    }
   ],
   "source": [
    "import matplotlib.pyplot as plt\n",
    "plt.rcParams['figure.figsize']=[14,7]\n",
    "fig=plt.figure()\n",
    "#plt.subplot(rows,columns,for which u r drawing this)\n",
    "plt.subplot(2,2,1)\n",
    "plt.hist(pcc_new['timeSpent.company'])\n",
    "plt.xlabel('Time Spent')\n",
    "\n",
    "plt.subplot(2,2,2)\n",
    "plt.hist(pcc_new['numberOfProjects'])\n",
    "plt.xlabel('Projects')\n",
    "\n",
    "plt.subplot(2,2,3)\n",
    "plt.hist(pcc_new['satisfactoryLevel'])\n",
    "plt.xlabel('Satisfaction level')"
   ]
  },
  {
   "cell_type": "markdown",
   "metadata": {},
   "source": [
    "# Applying Transformation techniques to reduce skewness"
   ]
  },
  {
   "cell_type": "code",
   "execution_count": 107,
   "metadata": {},
   "outputs": [],
   "source": [
    "pcc_new['timeSpent.company']=1/(pcc_new['timeSpent.company'])"
   ]
  },
  {
   "cell_type": "code",
   "execution_count": 108,
   "metadata": {},
   "outputs": [
    {
     "data": {
      "text/plain": [
       "0.23554454657350543"
      ]
     },
     "execution_count": 108,
     "metadata": {},
     "output_type": "execute_result"
    }
   ],
   "source": [
    "pcc_new['timeSpent.company'].skew()"
   ]
  },
  {
   "cell_type": "code",
   "execution_count": 109,
   "metadata": {},
   "outputs": [],
   "source": [
    "pcc_new['numberOfProjects']=np.sqrt(pcc_new['numberOfProjects'])"
   ]
  },
  {
   "cell_type": "code",
   "execution_count": 110,
   "metadata": {},
   "outputs": [
    {
     "data": {
      "text/plain": [
       "0.0009280462497749815"
      ]
     },
     "execution_count": 110,
     "metadata": {},
     "output_type": "execute_result"
    }
   ],
   "source": [
    "pcc_new['numberOfProjects'].skew()"
   ]
  },
  {
   "cell_type": "code",
   "execution_count": 111,
   "metadata": {},
   "outputs": [],
   "source": [
    "pcc_new['satisfactoryLevel']=np.exp(pcc_new['satisfactoryLevel'])"
   ]
  },
  {
   "cell_type": "code",
   "execution_count": 112,
   "metadata": {},
   "outputs": [
    {
     "data": {
      "text/plain": [
       "-0.12676326444581332"
      ]
     },
     "execution_count": 112,
     "metadata": {},
     "output_type": "execute_result"
    }
   ],
   "source": [
    "pcc_new['satisfactoryLevel'].skew()"
   ]
  },
  {
   "cell_type": "code",
   "execution_count": 113,
   "metadata": {},
   "outputs": [
    {
     "data": {
      "text/plain": [
       "Text(0.5, 0, 'Satisfaction level')"
      ]
     },
     "execution_count": 113,
     "metadata": {},
     "output_type": "execute_result"
    },
    {
     "data": {
      "image/png": "[encoded data removed]",
      "text/plain": [
       "<Figure size 1008x504 with 3 Axes>"
      ]
     },
     "metadata": {
      "needs_background": "light"
     },
     "output_type": "display_data"
    }
   ],
   "source": [
    "import matplotlib.pyplot as plt\n",
    "plt.rcParams['figure.figsize']=[14,7]\n",
    "fig=plt.figure()\n",
    "#plt.subplot(rows,columns,for which u r drawing this)\n",
    "plt.subplot(2,2,1)\n",
    "plt.hist(pcc_new['timeSpent.company'])\n",
    "plt.xlabel('Time Spent')\n",
    "\n",
    "plt.subplot(2,2,2)\n",
    "plt.hist(pcc_new['numberOfProjects'])\n",
    "plt.xlabel('Projects')\n",
    "\n",
    "plt.subplot(2,2,3)\n",
    "plt.hist(pcc_new['satisfactoryLevel'])\n",
    "plt.xlabel('Satisfaction level')"
   ]
  },
  {
   "cell_type": "markdown",
   "metadata": {},
   "source": [
    "- From the above charts we can get to know that the data is normally distributed after applying transformations"
   ]
  },
  {
   "cell_type": "code",
   "execution_count": 114,
   "metadata": {},
   "outputs": [
    {
     "data": {
      "text/plain": [
       "satisfactoryLevel       -0.126763\n",
       "lastEvaluation          -0.031686\n",
       "numberOfProjects         0.000928\n",
       "avgMonthlyHours          0.027208\n",
       "timeSpent.company        0.235545\n",
       "workAccident             1.914410\n",
       "promotionInLast5years    7.490008\n",
       "salary                  -0.446049\n",
       "dept_IT                  3.062158\n",
       "dept_RandD               3.787231\n",
       "dept_accounting          4.045725\n",
       "dept_hr                  4.124169\n",
       "dept_management          4.954409\n",
       "dept_marketing           3.857515\n",
       "dept_product_mng         3.813648\n",
       "dept_sales               1.035579\n",
       "dept_support             1.940320\n",
       "dept_technical           1.604510\n",
       "dtype: float64"
      ]
     },
     "execution_count": 114,
     "metadata": {},
     "output_type": "execute_result"
    }
   ],
   "source": [
    "pcc_new.skew()"
   ]
  },
  {
   "cell_type": "code",
   "execution_count": null,
   "metadata": {},
   "outputs": [],
   "source": []
  },
  {
   "cell_type": "code",
   "execution_count": null,
   "metadata": {},
   "outputs": [],
   "source": []
  },
  {
   "cell_type": "markdown",
   "metadata": {},
   "source": [
    "# KNN Algorithm"
   ]
  },
  {
   "cell_type": "code",
   "execution_count": 115,
   "metadata": {
    "scrolled": true
   },
   "outputs": [
    {
     "data": {
      "text/html": [
       "<div>\n",
       "<style scoped>\n",
       "    .dataframe tbody tr th:only-of-type {\n",
       "        vertical-align: middle;\n",
       "    }\n",
       "\n",
       "    .dataframe tbody tr th {\n",
       "        vertical-align: top;\n",
       "    }\n",
       "\n",
       "    .dataframe thead th {\n",
       "        text-align: right;\n",
       "    }\n",
       "</style>\n",
       "<table border=\"1\" class=\"dataframe\">\n",
       "  <thead>\n",
       "    <tr style=\"text-align: right;\">\n",
       "      <th></th>\n",
       "      <th>satisfactoryLevel</th>\n",
       "      <th>lastEvaluation</th>\n",
       "      <th>numberOfProjects</th>\n",
       "      <th>avgMonthlyHours</th>\n",
       "      <th>timeSpent.company</th>\n",
       "      <th>workAccident</th>\n",
       "      <th>promotionInLast5years</th>\n",
       "      <th>salary</th>\n",
       "      <th>dept_IT</th>\n",
       "      <th>dept_RandD</th>\n",
       "      <th>dept_accounting</th>\n",
       "      <th>dept_hr</th>\n",
       "      <th>dept_management</th>\n",
       "      <th>dept_marketing</th>\n",
       "      <th>dept_product_mng</th>\n",
       "      <th>dept_sales</th>\n",
       "      <th>dept_support</th>\n",
       "      <th>dept_technical</th>\n",
       "    </tr>\n",
       "  </thead>\n",
       "  <tbody>\n",
       "    <tr>\n",
       "      <th>0</th>\n",
       "      <td>1.462285</td>\n",
       "      <td>0.53</td>\n",
       "      <td>1.414214</td>\n",
       "      <td>157</td>\n",
       "      <td>0.333333</td>\n",
       "      <td>0</td>\n",
       "      <td>0</td>\n",
       "      <td>1</td>\n",
       "      <td>0</td>\n",
       "      <td>0</td>\n",
       "      <td>0</td>\n",
       "      <td>0</td>\n",
       "      <td>0</td>\n",
       "      <td>0</td>\n",
       "      <td>0</td>\n",
       "      <td>1</td>\n",
       "      <td>0</td>\n",
       "      <td>0</td>\n",
       "    </tr>\n",
       "    <tr>\n",
       "      <th>1</th>\n",
       "      <td>2.225541</td>\n",
       "      <td>0.86</td>\n",
       "      <td>2.236068</td>\n",
       "      <td>262</td>\n",
       "      <td>0.166667</td>\n",
       "      <td>0</td>\n",
       "      <td>0</td>\n",
       "      <td>2</td>\n",
       "      <td>0</td>\n",
       "      <td>0</td>\n",
       "      <td>0</td>\n",
       "      <td>0</td>\n",
       "      <td>0</td>\n",
       "      <td>0</td>\n",
       "      <td>0</td>\n",
       "      <td>1</td>\n",
       "      <td>0</td>\n",
       "      <td>0</td>\n",
       "    </tr>\n",
       "    <tr>\n",
       "      <th>2</th>\n",
       "      <td>1.116278</td>\n",
       "      <td>0.88</td>\n",
       "      <td>2.645751</td>\n",
       "      <td>272</td>\n",
       "      <td>0.250000</td>\n",
       "      <td>0</td>\n",
       "      <td>0</td>\n",
       "      <td>2</td>\n",
       "      <td>0</td>\n",
       "      <td>0</td>\n",
       "      <td>0</td>\n",
       "      <td>0</td>\n",
       "      <td>0</td>\n",
       "      <td>0</td>\n",
       "      <td>0</td>\n",
       "      <td>1</td>\n",
       "      <td>0</td>\n",
       "      <td>0</td>\n",
       "    </tr>\n",
       "    <tr>\n",
       "      <th>3</th>\n",
       "      <td>1.447735</td>\n",
       "      <td>0.52</td>\n",
       "      <td>1.414214</td>\n",
       "      <td>159</td>\n",
       "      <td>0.333333</td>\n",
       "      <td>0</td>\n",
       "      <td>0</td>\n",
       "      <td>1</td>\n",
       "      <td>0</td>\n",
       "      <td>0</td>\n",
       "      <td>0</td>\n",
       "      <td>0</td>\n",
       "      <td>0</td>\n",
       "      <td>0</td>\n",
       "      <td>0</td>\n",
       "      <td>1</td>\n",
       "      <td>0</td>\n",
       "      <td>0</td>\n",
       "    </tr>\n",
       "    <tr>\n",
       "      <th>4</th>\n",
       "      <td>1.506818</td>\n",
       "      <td>0.50</td>\n",
       "      <td>1.414214</td>\n",
       "      <td>153</td>\n",
       "      <td>0.333333</td>\n",
       "      <td>0</td>\n",
       "      <td>0</td>\n",
       "      <td>1</td>\n",
       "      <td>0</td>\n",
       "      <td>0</td>\n",
       "      <td>0</td>\n",
       "      <td>0</td>\n",
       "      <td>0</td>\n",
       "      <td>0</td>\n",
       "      <td>0</td>\n",
       "      <td>1</td>\n",
       "      <td>0</td>\n",
       "      <td>0</td>\n",
       "    </tr>\n",
       "    <tr>\n",
       "      <th>5</th>\n",
       "      <td>1.105171</td>\n",
       "      <td>0.77</td>\n",
       "      <td>2.449490</td>\n",
       "      <td>247</td>\n",
       "      <td>0.250000</td>\n",
       "      <td>0</td>\n",
       "      <td>0</td>\n",
       "      <td>1</td>\n",
       "      <td>0</td>\n",
       "      <td>0</td>\n",
       "      <td>0</td>\n",
       "      <td>0</td>\n",
       "      <td>0</td>\n",
       "      <td>0</td>\n",
       "      <td>0</td>\n",
       "      <td>1</td>\n",
       "      <td>0</td>\n",
       "      <td>0</td>\n",
       "    </tr>\n",
       "    <tr>\n",
       "      <th>6</th>\n",
       "      <td>2.509290</td>\n",
       "      <td>0.85</td>\n",
       "      <td>2.236068</td>\n",
       "      <td>259</td>\n",
       "      <td>0.200000</td>\n",
       "      <td>0</td>\n",
       "      <td>0</td>\n",
       "      <td>1</td>\n",
       "      <td>0</td>\n",
       "      <td>0</td>\n",
       "      <td>0</td>\n",
       "      <td>0</td>\n",
       "      <td>0</td>\n",
       "      <td>0</td>\n",
       "      <td>0</td>\n",
       "      <td>1</td>\n",
       "      <td>0</td>\n",
       "      <td>0</td>\n",
       "    </tr>\n",
       "    <tr>\n",
       "      <th>7</th>\n",
       "      <td>1.521962</td>\n",
       "      <td>0.53</td>\n",
       "      <td>1.414214</td>\n",
       "      <td>142</td>\n",
       "      <td>0.333333</td>\n",
       "      <td>0</td>\n",
       "      <td>0</td>\n",
       "      <td>1</td>\n",
       "      <td>0</td>\n",
       "      <td>0</td>\n",
       "      <td>0</td>\n",
       "      <td>0</td>\n",
       "      <td>0</td>\n",
       "      <td>0</td>\n",
       "      <td>0</td>\n",
       "      <td>1</td>\n",
       "      <td>0</td>\n",
       "      <td>0</td>\n",
       "    </tr>\n",
       "    <tr>\n",
       "      <th>8</th>\n",
       "      <td>1.568312</td>\n",
       "      <td>0.54</td>\n",
       "      <td>1.414214</td>\n",
       "      <td>135</td>\n",
       "      <td>0.333333</td>\n",
       "      <td>0</td>\n",
       "      <td>0</td>\n",
       "      <td>1</td>\n",
       "      <td>0</td>\n",
       "      <td>0</td>\n",
       "      <td>0</td>\n",
       "      <td>0</td>\n",
       "      <td>0</td>\n",
       "      <td>0</td>\n",
       "      <td>0</td>\n",
       "      <td>1</td>\n",
       "      <td>0</td>\n",
       "      <td>0</td>\n",
       "    </tr>\n",
       "    <tr>\n",
       "      <th>9</th>\n",
       "      <td>1.116278</td>\n",
       "      <td>0.81</td>\n",
       "      <td>2.449490</td>\n",
       "      <td>305</td>\n",
       "      <td>0.250000</td>\n",
       "      <td>0</td>\n",
       "      <td>0</td>\n",
       "      <td>1</td>\n",
       "      <td>0</td>\n",
       "      <td>0</td>\n",
       "      <td>0</td>\n",
       "      <td>0</td>\n",
       "      <td>0</td>\n",
       "      <td>0</td>\n",
       "      <td>0</td>\n",
       "      <td>1</td>\n",
       "      <td>0</td>\n",
       "      <td>0</td>\n",
       "    </tr>\n",
       "    <tr>\n",
       "      <th>10</th>\n",
       "      <td>1.433329</td>\n",
       "      <td>0.56</td>\n",
       "      <td>1.414214</td>\n",
       "      <td>137</td>\n",
       "      <td>0.333333</td>\n",
       "      <td>0</td>\n",
       "      <td>0</td>\n",
       "      <td>1</td>\n",
       "      <td>0</td>\n",
       "      <td>0</td>\n",
       "      <td>0</td>\n",
       "      <td>0</td>\n",
       "      <td>0</td>\n",
       "      <td>0</td>\n",
       "      <td>0</td>\n",
       "      <td>1</td>\n",
       "      <td>0</td>\n",
       "      <td>0</td>\n",
       "    </tr>\n",
       "    <tr>\n",
       "      <th>11</th>\n",
       "      <td>1.462285</td>\n",
       "      <td>0.54</td>\n",
       "      <td>1.414214</td>\n",
       "      <td>143</td>\n",
       "      <td>0.333333</td>\n",
       "      <td>0</td>\n",
       "      <td>0</td>\n",
       "      <td>1</td>\n",
       "      <td>0</td>\n",
       "      <td>0</td>\n",
       "      <td>0</td>\n",
       "      <td>0</td>\n",
       "      <td>0</td>\n",
       "      <td>0</td>\n",
       "      <td>0</td>\n",
       "      <td>1</td>\n",
       "      <td>0</td>\n",
       "      <td>0</td>\n",
       "    </tr>\n",
       "    <tr>\n",
       "      <th>12</th>\n",
       "      <td>1.568312</td>\n",
       "      <td>0.47</td>\n",
       "      <td>1.414214</td>\n",
       "      <td>160</td>\n",
       "      <td>0.333333</td>\n",
       "      <td>0</td>\n",
       "      <td>0</td>\n",
       "      <td>1</td>\n",
       "      <td>0</td>\n",
       "      <td>0</td>\n",
       "      <td>0</td>\n",
       "      <td>0</td>\n",
       "      <td>0</td>\n",
       "      <td>0</td>\n",
       "      <td>0</td>\n",
       "      <td>1</td>\n",
       "      <td>0</td>\n",
       "      <td>0</td>\n",
       "    </tr>\n",
       "    <tr>\n",
       "      <th>13</th>\n",
       "      <td>2.181472</td>\n",
       "      <td>0.99</td>\n",
       "      <td>2.000000</td>\n",
       "      <td>255</td>\n",
       "      <td>0.166667</td>\n",
       "      <td>0</td>\n",
       "      <td>0</td>\n",
       "      <td>1</td>\n",
       "      <td>0</td>\n",
       "      <td>0</td>\n",
       "      <td>0</td>\n",
       "      <td>0</td>\n",
       "      <td>0</td>\n",
       "      <td>0</td>\n",
       "      <td>0</td>\n",
       "      <td>1</td>\n",
       "      <td>0</td>\n",
       "      <td>0</td>\n",
       "    </tr>\n",
       "    <tr>\n",
       "      <th>14</th>\n",
       "      <td>2.138276</td>\n",
       "      <td>0.89</td>\n",
       "      <td>2.236068</td>\n",
       "      <td>262</td>\n",
       "      <td>0.200000</td>\n",
       "      <td>0</td>\n",
       "      <td>0</td>\n",
       "      <td>1</td>\n",
       "      <td>0</td>\n",
       "      <td>0</td>\n",
       "      <td>0</td>\n",
       "      <td>0</td>\n",
       "      <td>0</td>\n",
       "      <td>0</td>\n",
       "      <td>0</td>\n",
       "      <td>1</td>\n",
       "      <td>0</td>\n",
       "      <td>0</td>\n",
       "    </tr>\n",
       "    <tr>\n",
       "      <th>15</th>\n",
       "      <td>1.116278</td>\n",
       "      <td>0.83</td>\n",
       "      <td>2.449490</td>\n",
       "      <td>282</td>\n",
       "      <td>0.250000</td>\n",
       "      <td>0</td>\n",
       "      <td>0</td>\n",
       "      <td>1</td>\n",
       "      <td>0</td>\n",
       "      <td>0</td>\n",
       "      <td>0</td>\n",
       "      <td>0</td>\n",
       "      <td>0</td>\n",
       "      <td>0</td>\n",
       "      <td>0</td>\n",
       "      <td>1</td>\n",
       "      <td>0</td>\n",
       "      <td>0</td>\n",
       "    </tr>\n",
       "    <tr>\n",
       "      <th>16</th>\n",
       "      <td>1.094174</td>\n",
       "      <td>0.95</td>\n",
       "      <td>2.449490</td>\n",
       "      <td>304</td>\n",
       "      <td>0.250000</td>\n",
       "      <td>0</td>\n",
       "      <td>0</td>\n",
       "      <td>1</td>\n",
       "      <td>0</td>\n",
       "      <td>0</td>\n",
       "      <td>0</td>\n",
       "      <td>0</td>\n",
       "      <td>0</td>\n",
       "      <td>0</td>\n",
       "      <td>0</td>\n",
       "      <td>1</td>\n",
       "      <td>0</td>\n",
       "      <td>0</td>\n",
       "    </tr>\n",
       "    <tr>\n",
       "      <th>17</th>\n",
       "      <td>1.584074</td>\n",
       "      <td>0.57</td>\n",
       "      <td>1.414214</td>\n",
       "      <td>139</td>\n",
       "      <td>0.333333</td>\n",
       "      <td>0</td>\n",
       "      <td>0</td>\n",
       "      <td>1</td>\n",
       "      <td>0</td>\n",
       "      <td>0</td>\n",
       "      <td>0</td>\n",
       "      <td>0</td>\n",
       "      <td>0</td>\n",
       "      <td>0</td>\n",
       "      <td>0</td>\n",
       "      <td>1</td>\n",
       "      <td>0</td>\n",
       "      <td>0</td>\n",
       "    </tr>\n",
       "    <tr>\n",
       "      <th>18</th>\n",
       "      <td>1.491825</td>\n",
       "      <td>0.53</td>\n",
       "      <td>1.414214</td>\n",
       "      <td>158</td>\n",
       "      <td>0.333333</td>\n",
       "      <td>0</td>\n",
       "      <td>0</td>\n",
       "      <td>1</td>\n",
       "      <td>0</td>\n",
       "      <td>0</td>\n",
       "      <td>0</td>\n",
       "      <td>0</td>\n",
       "      <td>0</td>\n",
       "      <td>0</td>\n",
       "      <td>0</td>\n",
       "      <td>1</td>\n",
       "      <td>0</td>\n",
       "      <td>0</td>\n",
       "    </tr>\n",
       "    <tr>\n",
       "      <th>19</th>\n",
       "      <td>2.435130</td>\n",
       "      <td>0.92</td>\n",
       "      <td>2.236068</td>\n",
       "      <td>242</td>\n",
       "      <td>0.200000</td>\n",
       "      <td>0</td>\n",
       "      <td>0</td>\n",
       "      <td>1</td>\n",
       "      <td>0</td>\n",
       "      <td>0</td>\n",
       "      <td>0</td>\n",
       "      <td>0</td>\n",
       "      <td>0</td>\n",
       "      <td>0</td>\n",
       "      <td>0</td>\n",
       "      <td>1</td>\n",
       "      <td>0</td>\n",
       "      <td>0</td>\n",
       "    </tr>\n",
       "    <tr>\n",
       "      <th>20</th>\n",
       "      <td>2.270500</td>\n",
       "      <td>0.87</td>\n",
       "      <td>2.000000</td>\n",
       "      <td>239</td>\n",
       "      <td>0.200000</td>\n",
       "      <td>0</td>\n",
       "      <td>0</td>\n",
       "      <td>1</td>\n",
       "      <td>0</td>\n",
       "      <td>0</td>\n",
       "      <td>0</td>\n",
       "      <td>0</td>\n",
       "      <td>0</td>\n",
       "      <td>0</td>\n",
       "      <td>0</td>\n",
       "      <td>1</td>\n",
       "      <td>0</td>\n",
       "      <td>0</td>\n",
       "    </tr>\n",
       "    <tr>\n",
       "      <th>21</th>\n",
       "      <td>1.491825</td>\n",
       "      <td>0.49</td>\n",
       "      <td>1.414214</td>\n",
       "      <td>135</td>\n",
       "      <td>0.333333</td>\n",
       "      <td>0</td>\n",
       "      <td>0</td>\n",
       "      <td>1</td>\n",
       "      <td>0</td>\n",
       "      <td>0</td>\n",
       "      <td>0</td>\n",
       "      <td>0</td>\n",
       "      <td>0</td>\n",
       "      <td>0</td>\n",
       "      <td>0</td>\n",
       "      <td>1</td>\n",
       "      <td>0</td>\n",
       "      <td>0</td>\n",
       "    </tr>\n",
       "    <tr>\n",
       "      <th>22</th>\n",
       "      <td>1.462285</td>\n",
       "      <td>0.50</td>\n",
       "      <td>1.414214</td>\n",
       "      <td>132</td>\n",
       "      <td>0.333333</td>\n",
       "      <td>0</td>\n",
       "      <td>0</td>\n",
       "      <td>1</td>\n",
       "      <td>0</td>\n",
       "      <td>0</td>\n",
       "      <td>1</td>\n",
       "      <td>0</td>\n",
       "      <td>0</td>\n",
       "      <td>0</td>\n",
       "      <td>0</td>\n",
       "      <td>0</td>\n",
       "      <td>0</td>\n",
       "      <td>0</td>\n",
       "    </tr>\n",
       "    <tr>\n",
       "      <th>23</th>\n",
       "      <td>1.094174</td>\n",
       "      <td>0.62</td>\n",
       "      <td>2.449490</td>\n",
       "      <td>294</td>\n",
       "      <td>0.250000</td>\n",
       "      <td>0</td>\n",
       "      <td>0</td>\n",
       "      <td>1</td>\n",
       "      <td>0</td>\n",
       "      <td>0</td>\n",
       "      <td>1</td>\n",
       "      <td>0</td>\n",
       "      <td>0</td>\n",
       "      <td>0</td>\n",
       "      <td>0</td>\n",
       "      <td>0</td>\n",
       "      <td>0</td>\n",
       "      <td>0</td>\n",
       "    </tr>\n",
       "    <tr>\n",
       "      <th>24</th>\n",
       "      <td>1.568312</td>\n",
       "      <td>0.57</td>\n",
       "      <td>1.414214</td>\n",
       "      <td>134</td>\n",
       "      <td>0.333333</td>\n",
       "      <td>0</td>\n",
       "      <td>0</td>\n",
       "      <td>1</td>\n",
       "      <td>0</td>\n",
       "      <td>0</td>\n",
       "      <td>0</td>\n",
       "      <td>1</td>\n",
       "      <td>0</td>\n",
       "      <td>0</td>\n",
       "      <td>0</td>\n",
       "      <td>0</td>\n",
       "      <td>0</td>\n",
       "      <td>0</td>\n",
       "    </tr>\n",
       "    <tr>\n",
       "      <th>25</th>\n",
       "      <td>1.491825</td>\n",
       "      <td>0.51</td>\n",
       "      <td>1.414214</td>\n",
       "      <td>145</td>\n",
       "      <td>0.333333</td>\n",
       "      <td>0</td>\n",
       "      <td>0</td>\n",
       "      <td>1</td>\n",
       "      <td>0</td>\n",
       "      <td>0</td>\n",
       "      <td>0</td>\n",
       "      <td>1</td>\n",
       "      <td>0</td>\n",
       "      <td>0</td>\n",
       "      <td>0</td>\n",
       "      <td>0</td>\n",
       "      <td>0</td>\n",
       "      <td>0</td>\n",
       "    </tr>\n",
       "    <tr>\n",
       "      <th>26</th>\n",
       "      <td>2.316367</td>\n",
       "      <td>0.87</td>\n",
       "      <td>2.000000</td>\n",
       "      <td>246</td>\n",
       "      <td>0.166667</td>\n",
       "      <td>0</td>\n",
       "      <td>0</td>\n",
       "      <td>1</td>\n",
       "      <td>0</td>\n",
       "      <td>0</td>\n",
       "      <td>0</td>\n",
       "      <td>1</td>\n",
       "      <td>0</td>\n",
       "      <td>0</td>\n",
       "      <td>0</td>\n",
       "      <td>0</td>\n",
       "      <td>0</td>\n",
       "      <td>0</td>\n",
       "    </tr>\n",
       "    <tr>\n",
       "      <th>27</th>\n",
       "      <td>1.462285</td>\n",
       "      <td>0.46</td>\n",
       "      <td>1.414214</td>\n",
       "      <td>137</td>\n",
       "      <td>0.333333</td>\n",
       "      <td>0</td>\n",
       "      <td>0</td>\n",
       "      <td>1</td>\n",
       "      <td>0</td>\n",
       "      <td>0</td>\n",
       "      <td>0</td>\n",
       "      <td>0</td>\n",
       "      <td>0</td>\n",
       "      <td>0</td>\n",
       "      <td>0</td>\n",
       "      <td>0</td>\n",
       "      <td>0</td>\n",
       "      <td>1</td>\n",
       "    </tr>\n",
       "    <tr>\n",
       "      <th>28</th>\n",
       "      <td>1.568312</td>\n",
       "      <td>0.50</td>\n",
       "      <td>1.414214</td>\n",
       "      <td>126</td>\n",
       "      <td>0.333333</td>\n",
       "      <td>0</td>\n",
       "      <td>0</td>\n",
       "      <td>1</td>\n",
       "      <td>0</td>\n",
       "      <td>0</td>\n",
       "      <td>0</td>\n",
       "      <td>0</td>\n",
       "      <td>0</td>\n",
       "      <td>0</td>\n",
       "      <td>0</td>\n",
       "      <td>0</td>\n",
       "      <td>0</td>\n",
       "      <td>1</td>\n",
       "    </tr>\n",
       "    <tr>\n",
       "      <th>29</th>\n",
       "      <td>1.116278</td>\n",
       "      <td>0.89</td>\n",
       "      <td>2.449490</td>\n",
       "      <td>306</td>\n",
       "      <td>0.250000</td>\n",
       "      <td>0</td>\n",
       "      <td>0</td>\n",
       "      <td>1</td>\n",
       "      <td>0</td>\n",
       "      <td>0</td>\n",
       "      <td>0</td>\n",
       "      <td>0</td>\n",
       "      <td>0</td>\n",
       "      <td>0</td>\n",
       "      <td>0</td>\n",
       "      <td>0</td>\n",
       "      <td>0</td>\n",
       "      <td>1</td>\n",
       "    </tr>\n",
       "    <tr>\n",
       "      <th>...</th>\n",
       "      <td>...</td>\n",
       "      <td>...</td>\n",
       "      <td>...</td>\n",
       "      <td>...</td>\n",
       "      <td>...</td>\n",
       "      <td>...</td>\n",
       "      <td>...</td>\n",
       "      <td>...</td>\n",
       "      <td>...</td>\n",
       "      <td>...</td>\n",
       "      <td>...</td>\n",
       "      <td>...</td>\n",
       "      <td>...</td>\n",
       "      <td>...</td>\n",
       "      <td>...</td>\n",
       "      <td>...</td>\n",
       "      <td>...</td>\n",
       "      <td>...</td>\n",
       "    </tr>\n",
       "    <tr>\n",
       "      <th>14950</th>\n",
       "      <td>1.552707</td>\n",
       "      <td>0.56</td>\n",
       "      <td>1.732051</td>\n",
       "      <td>123</td>\n",
       "      <td>0.333333</td>\n",
       "      <td>0</td>\n",
       "      <td>0</td>\n",
       "      <td>2</td>\n",
       "      <td>0</td>\n",
       "      <td>0</td>\n",
       "      <td>1</td>\n",
       "      <td>0</td>\n",
       "      <td>0</td>\n",
       "      <td>0</td>\n",
       "      <td>0</td>\n",
       "      <td>0</td>\n",
       "      <td>0</td>\n",
       "      <td>0</td>\n",
       "    </tr>\n",
       "    <tr>\n",
       "      <th>14951</th>\n",
       "      <td>2.117000</td>\n",
       "      <td>0.74</td>\n",
       "      <td>1.732051</td>\n",
       "      <td>186</td>\n",
       "      <td>0.333333</td>\n",
       "      <td>1</td>\n",
       "      <td>0</td>\n",
       "      <td>2</td>\n",
       "      <td>0</td>\n",
       "      <td>1</td>\n",
       "      <td>0</td>\n",
       "      <td>0</td>\n",
       "      <td>0</td>\n",
       "      <td>0</td>\n",
       "      <td>0</td>\n",
       "      <td>0</td>\n",
       "      <td>0</td>\n",
       "      <td>0</td>\n",
       "    </tr>\n",
       "    <tr>\n",
       "      <th>14953</th>\n",
       "      <td>2.247908</td>\n",
       "      <td>0.75</td>\n",
       "      <td>2.000000</td>\n",
       "      <td>206</td>\n",
       "      <td>0.333333</td>\n",
       "      <td>0</td>\n",
       "      <td>0</td>\n",
       "      <td>2</td>\n",
       "      <td>1</td>\n",
       "      <td>0</td>\n",
       "      <td>0</td>\n",
       "      <td>0</td>\n",
       "      <td>0</td>\n",
       "      <td>0</td>\n",
       "      <td>0</td>\n",
       "      <td>0</td>\n",
       "      <td>0</td>\n",
       "      <td>0</td>\n",
       "    </tr>\n",
       "    <tr>\n",
       "      <th>14956</th>\n",
       "      <td>1.296930</td>\n",
       "      <td>0.37</td>\n",
       "      <td>1.414214</td>\n",
       "      <td>232</td>\n",
       "      <td>0.333333</td>\n",
       "      <td>1</td>\n",
       "      <td>0</td>\n",
       "      <td>1</td>\n",
       "      <td>0</td>\n",
       "      <td>0</td>\n",
       "      <td>0</td>\n",
       "      <td>1</td>\n",
       "      <td>0</td>\n",
       "      <td>0</td>\n",
       "      <td>0</td>\n",
       "      <td>0</td>\n",
       "      <td>0</td>\n",
       "      <td>0</td>\n",
       "    </tr>\n",
       "    <tr>\n",
       "      <th>14958</th>\n",
       "      <td>2.203396</td>\n",
       "      <td>0.97</td>\n",
       "      <td>1.732051</td>\n",
       "      <td>271</td>\n",
       "      <td>0.500000</td>\n",
       "      <td>0</td>\n",
       "      <td>0</td>\n",
       "      <td>2</td>\n",
       "      <td>0</td>\n",
       "      <td>0</td>\n",
       "      <td>0</td>\n",
       "      <td>1</td>\n",
       "      <td>0</td>\n",
       "      <td>0</td>\n",
       "      <td>0</td>\n",
       "      <td>0</td>\n",
       "      <td>0</td>\n",
       "      <td>0</td>\n",
       "    </tr>\n",
       "    <tr>\n",
       "      <th>14960</th>\n",
       "      <td>1.750673</td>\n",
       "      <td>0.62</td>\n",
       "      <td>1.732051</td>\n",
       "      <td>154</td>\n",
       "      <td>0.500000</td>\n",
       "      <td>0</td>\n",
       "      <td>0</td>\n",
       "      <td>1</td>\n",
       "      <td>0</td>\n",
       "      <td>0</td>\n",
       "      <td>0</td>\n",
       "      <td>0</td>\n",
       "      <td>0</td>\n",
       "      <td>0</td>\n",
       "      <td>0</td>\n",
       "      <td>1</td>\n",
       "      <td>0</td>\n",
       "      <td>0</td>\n",
       "    </tr>\n",
       "    <tr>\n",
       "      <th>14963</th>\n",
       "      <td>1.105171</td>\n",
       "      <td>0.93</td>\n",
       "      <td>2.449490</td>\n",
       "      <td>269</td>\n",
       "      <td>0.250000</td>\n",
       "      <td>0</td>\n",
       "      <td>0</td>\n",
       "      <td>1</td>\n",
       "      <td>1</td>\n",
       "      <td>0</td>\n",
       "      <td>0</td>\n",
       "      <td>0</td>\n",
       "      <td>0</td>\n",
       "      <td>0</td>\n",
       "      <td>0</td>\n",
       "      <td>0</td>\n",
       "      <td>0</td>\n",
       "      <td>0</td>\n",
       "    </tr>\n",
       "    <tr>\n",
       "      <th>14964</th>\n",
       "      <td>1.803988</td>\n",
       "      <td>0.76</td>\n",
       "      <td>1.732051</td>\n",
       "      <td>264</td>\n",
       "      <td>0.333333</td>\n",
       "      <td>0</td>\n",
       "      <td>0</td>\n",
       "      <td>2</td>\n",
       "      <td>0</td>\n",
       "      <td>0</td>\n",
       "      <td>0</td>\n",
       "      <td>0</td>\n",
       "      <td>0</td>\n",
       "      <td>0</td>\n",
       "      <td>0</td>\n",
       "      <td>0</td>\n",
       "      <td>0</td>\n",
       "      <td>1</td>\n",
       "    </tr>\n",
       "    <tr>\n",
       "      <th>14965</th>\n",
       "      <td>1.934792</td>\n",
       "      <td>0.98</td>\n",
       "      <td>2.000000</td>\n",
       "      <td>163</td>\n",
       "      <td>0.333333</td>\n",
       "      <td>1</td>\n",
       "      <td>0</td>\n",
       "      <td>1</td>\n",
       "      <td>0</td>\n",
       "      <td>0</td>\n",
       "      <td>0</td>\n",
       "      <td>0</td>\n",
       "      <td>0</td>\n",
       "      <td>0</td>\n",
       "      <td>0</td>\n",
       "      <td>1</td>\n",
       "      <td>0</td>\n",
       "      <td>0</td>\n",
       "    </tr>\n",
       "    <tr>\n",
       "      <th>14967</th>\n",
       "      <td>1.973878</td>\n",
       "      <td>0.75</td>\n",
       "      <td>2.236068</td>\n",
       "      <td>243</td>\n",
       "      <td>0.333333</td>\n",
       "      <td>1</td>\n",
       "      <td>0</td>\n",
       "      <td>1</td>\n",
       "      <td>0</td>\n",
       "      <td>0</td>\n",
       "      <td>0</td>\n",
       "      <td>0</td>\n",
       "      <td>0</td>\n",
       "      <td>0</td>\n",
       "      <td>0</td>\n",
       "      <td>0</td>\n",
       "      <td>1</td>\n",
       "      <td>0</td>\n",
       "    </tr>\n",
       "    <tr>\n",
       "      <th>14968</th>\n",
       "      <td>2.585710</td>\n",
       "      <td>0.86</td>\n",
       "      <td>2.236068</td>\n",
       "      <td>143</td>\n",
       "      <td>0.333333</td>\n",
       "      <td>0</td>\n",
       "      <td>0</td>\n",
       "      <td>2</td>\n",
       "      <td>0</td>\n",
       "      <td>0</td>\n",
       "      <td>0</td>\n",
       "      <td>0</td>\n",
       "      <td>0</td>\n",
       "      <td>0</td>\n",
       "      <td>0</td>\n",
       "      <td>0</td>\n",
       "      <td>0</td>\n",
       "      <td>1</td>\n",
       "    </tr>\n",
       "    <tr>\n",
       "      <th>14972</th>\n",
       "      <td>2.270500</td>\n",
       "      <td>0.97</td>\n",
       "      <td>2.000000</td>\n",
       "      <td>243</td>\n",
       "      <td>0.333333</td>\n",
       "      <td>1</td>\n",
       "      <td>0</td>\n",
       "      <td>1</td>\n",
       "      <td>0</td>\n",
       "      <td>0</td>\n",
       "      <td>0</td>\n",
       "      <td>0</td>\n",
       "      <td>0</td>\n",
       "      <td>0</td>\n",
       "      <td>0</td>\n",
       "      <td>0</td>\n",
       "      <td>0</td>\n",
       "      <td>1</td>\n",
       "    </tr>\n",
       "    <tr>\n",
       "      <th>14973</th>\n",
       "      <td>2.075081</td>\n",
       "      <td>0.60</td>\n",
       "      <td>1.732051</td>\n",
       "      <td>145</td>\n",
       "      <td>0.166667</td>\n",
       "      <td>1</td>\n",
       "      <td>0</td>\n",
       "      <td>2</td>\n",
       "      <td>0</td>\n",
       "      <td>0</td>\n",
       "      <td>0</td>\n",
       "      <td>0</td>\n",
       "      <td>0</td>\n",
       "      <td>0</td>\n",
       "      <td>0</td>\n",
       "      <td>0</td>\n",
       "      <td>0</td>\n",
       "      <td>1</td>\n",
       "    </tr>\n",
       "    <tr>\n",
       "      <th>14975</th>\n",
       "      <td>1.768267</td>\n",
       "      <td>1.00</td>\n",
       "      <td>1.732051</td>\n",
       "      <td>241</td>\n",
       "      <td>0.250000</td>\n",
       "      <td>0</td>\n",
       "      <td>0</td>\n",
       "      <td>1</td>\n",
       "      <td>0</td>\n",
       "      <td>0</td>\n",
       "      <td>0</td>\n",
       "      <td>0</td>\n",
       "      <td>0</td>\n",
       "      <td>0</td>\n",
       "      <td>0</td>\n",
       "      <td>0</td>\n",
       "      <td>0</td>\n",
       "      <td>1</td>\n",
       "    </tr>\n",
       "    <tr>\n",
       "      <th>14976</th>\n",
       "      <td>2.637944</td>\n",
       "      <td>0.66</td>\n",
       "      <td>2.000000</td>\n",
       "      <td>218</td>\n",
       "      <td>0.333333</td>\n",
       "      <td>0</td>\n",
       "      <td>0</td>\n",
       "      <td>0</td>\n",
       "      <td>0</td>\n",
       "      <td>0</td>\n",
       "      <td>0</td>\n",
       "      <td>0</td>\n",
       "      <td>0</td>\n",
       "      <td>0</td>\n",
       "      <td>0</td>\n",
       "      <td>1</td>\n",
       "      <td>0</td>\n",
       "      <td>0</td>\n",
       "    </tr>\n",
       "    <tr>\n",
       "      <th>14977</th>\n",
       "      <td>1.233678</td>\n",
       "      <td>0.62</td>\n",
       "      <td>2.000000</td>\n",
       "      <td>247</td>\n",
       "      <td>0.333333</td>\n",
       "      <td>1</td>\n",
       "      <td>0</td>\n",
       "      <td>1</td>\n",
       "      <td>0</td>\n",
       "      <td>0</td>\n",
       "      <td>0</td>\n",
       "      <td>0</td>\n",
       "      <td>0</td>\n",
       "      <td>0</td>\n",
       "      <td>1</td>\n",
       "      <td>0</td>\n",
       "      <td>0</td>\n",
       "      <td>0</td>\n",
       "    </tr>\n",
       "    <tr>\n",
       "      <th>14978</th>\n",
       "      <td>1.896481</td>\n",
       "      <td>0.50</td>\n",
       "      <td>1.732051</td>\n",
       "      <td>238</td>\n",
       "      <td>0.250000</td>\n",
       "      <td>0</td>\n",
       "      <td>0</td>\n",
       "      <td>1</td>\n",
       "      <td>0</td>\n",
       "      <td>0</td>\n",
       "      <td>0</td>\n",
       "      <td>0</td>\n",
       "      <td>0</td>\n",
       "      <td>0</td>\n",
       "      <td>0</td>\n",
       "      <td>0</td>\n",
       "      <td>0</td>\n",
       "      <td>1</td>\n",
       "    </tr>\n",
       "    <tr>\n",
       "      <th>14980</th>\n",
       "      <td>2.410900</td>\n",
       "      <td>0.75</td>\n",
       "      <td>2.000000</td>\n",
       "      <td>201</td>\n",
       "      <td>0.500000</td>\n",
       "      <td>0</td>\n",
       "      <td>0</td>\n",
       "      <td>2</td>\n",
       "      <td>0</td>\n",
       "      <td>0</td>\n",
       "      <td>0</td>\n",
       "      <td>0</td>\n",
       "      <td>0</td>\n",
       "      <td>0</td>\n",
       "      <td>0</td>\n",
       "      <td>1</td>\n",
       "      <td>0</td>\n",
       "      <td>0</td>\n",
       "    </tr>\n",
       "    <tr>\n",
       "      <th>14981</th>\n",
       "      <td>2.637944</td>\n",
       "      <td>0.55</td>\n",
       "      <td>2.000000</td>\n",
       "      <td>166</td>\n",
       "      <td>0.333333</td>\n",
       "      <td>1</td>\n",
       "      <td>0</td>\n",
       "      <td>0</td>\n",
       "      <td>0</td>\n",
       "      <td>0</td>\n",
       "      <td>1</td>\n",
       "      <td>0</td>\n",
       "      <td>0</td>\n",
       "      <td>0</td>\n",
       "      <td>0</td>\n",
       "      <td>0</td>\n",
       "      <td>0</td>\n",
       "      <td>0</td>\n",
       "    </tr>\n",
       "    <tr>\n",
       "      <th>14982</th>\n",
       "      <td>2.410900</td>\n",
       "      <td>0.80</td>\n",
       "      <td>1.732051</td>\n",
       "      <td>133</td>\n",
       "      <td>0.333333</td>\n",
       "      <td>0</td>\n",
       "      <td>0</td>\n",
       "      <td>2</td>\n",
       "      <td>0</td>\n",
       "      <td>0</td>\n",
       "      <td>0</td>\n",
       "      <td>0</td>\n",
       "      <td>0</td>\n",
       "      <td>0</td>\n",
       "      <td>1</td>\n",
       "      <td>0</td>\n",
       "      <td>0</td>\n",
       "      <td>0</td>\n",
       "    </tr>\n",
       "    <tr>\n",
       "      <th>14983</th>\n",
       "      <td>2.159766</td>\n",
       "      <td>0.67</td>\n",
       "      <td>1.732051</td>\n",
       "      <td>186</td>\n",
       "      <td>0.500000</td>\n",
       "      <td>0</td>\n",
       "      <td>0</td>\n",
       "      <td>1</td>\n",
       "      <td>0</td>\n",
       "      <td>0</td>\n",
       "      <td>0</td>\n",
       "      <td>0</td>\n",
       "      <td>0</td>\n",
       "      <td>0</td>\n",
       "      <td>0</td>\n",
       "      <td>0</td>\n",
       "      <td>0</td>\n",
       "      <td>1</td>\n",
       "    </tr>\n",
       "    <tr>\n",
       "      <th>14986</th>\n",
       "      <td>2.138276</td>\n",
       "      <td>1.00</td>\n",
       "      <td>2.000000</td>\n",
       "      <td>220</td>\n",
       "      <td>0.166667</td>\n",
       "      <td>0</td>\n",
       "      <td>0</td>\n",
       "      <td>2</td>\n",
       "      <td>0</td>\n",
       "      <td>1</td>\n",
       "      <td>0</td>\n",
       "      <td>0</td>\n",
       "      <td>0</td>\n",
       "      <td>0</td>\n",
       "      <td>0</td>\n",
       "      <td>0</td>\n",
       "      <td>0</td>\n",
       "      <td>0</td>\n",
       "    </tr>\n",
       "    <tr>\n",
       "      <th>14989</th>\n",
       "      <td>1.993716</td>\n",
       "      <td>0.70</td>\n",
       "      <td>1.732051</td>\n",
       "      <td>212</td>\n",
       "      <td>0.500000</td>\n",
       "      <td>0</td>\n",
       "      <td>0</td>\n",
       "      <td>2</td>\n",
       "      <td>0</td>\n",
       "      <td>0</td>\n",
       "      <td>0</td>\n",
       "      <td>0</td>\n",
       "      <td>0</td>\n",
       "      <td>0</td>\n",
       "      <td>1</td>\n",
       "      <td>0</td>\n",
       "      <td>0</td>\n",
       "      <td>0</td>\n",
       "    </tr>\n",
       "    <tr>\n",
       "      <th>14990</th>\n",
       "      <td>2.075081</td>\n",
       "      <td>0.52</td>\n",
       "      <td>1.732051</td>\n",
       "      <td>274</td>\n",
       "      <td>0.500000</td>\n",
       "      <td>0</td>\n",
       "      <td>0</td>\n",
       "      <td>0</td>\n",
       "      <td>0</td>\n",
       "      <td>0</td>\n",
       "      <td>0</td>\n",
       "      <td>0</td>\n",
       "      <td>0</td>\n",
       "      <td>0</td>\n",
       "      <td>0</td>\n",
       "      <td>0</td>\n",
       "      <td>0</td>\n",
       "      <td>1</td>\n",
       "    </tr>\n",
       "    <tr>\n",
       "      <th>14991</th>\n",
       "      <td>2.339647</td>\n",
       "      <td>0.53</td>\n",
       "      <td>1.732051</td>\n",
       "      <td>250</td>\n",
       "      <td>0.333333</td>\n",
       "      <td>0</td>\n",
       "      <td>0</td>\n",
       "      <td>2</td>\n",
       "      <td>1</td>\n",
       "      <td>0</td>\n",
       "      <td>0</td>\n",
       "      <td>0</td>\n",
       "      <td>0</td>\n",
       "      <td>0</td>\n",
       "      <td>0</td>\n",
       "      <td>0</td>\n",
       "      <td>0</td>\n",
       "      <td>0</td>\n",
       "    </tr>\n",
       "    <tr>\n",
       "      <th>14992</th>\n",
       "      <td>1.349859</td>\n",
       "      <td>0.88</td>\n",
       "      <td>2.236068</td>\n",
       "      <td>245</td>\n",
       "      <td>0.250000</td>\n",
       "      <td>0</td>\n",
       "      <td>0</td>\n",
       "      <td>1</td>\n",
       "      <td>0</td>\n",
       "      <td>0</td>\n",
       "      <td>0</td>\n",
       "      <td>1</td>\n",
       "      <td>0</td>\n",
       "      <td>0</td>\n",
       "      <td>0</td>\n",
       "      <td>0</td>\n",
       "      <td>0</td>\n",
       "      <td>0</td>\n",
       "    </tr>\n",
       "    <tr>\n",
       "      <th>14995</th>\n",
       "      <td>2.691234</td>\n",
       "      <td>0.83</td>\n",
       "      <td>2.000000</td>\n",
       "      <td>274</td>\n",
       "      <td>0.500000</td>\n",
       "      <td>0</td>\n",
       "      <td>0</td>\n",
       "      <td>1</td>\n",
       "      <td>0</td>\n",
       "      <td>0</td>\n",
       "      <td>0</td>\n",
       "      <td>0</td>\n",
       "      <td>0</td>\n",
       "      <td>0</td>\n",
       "      <td>0</td>\n",
       "      <td>1</td>\n",
       "      <td>0</td>\n",
       "      <td>0</td>\n",
       "    </tr>\n",
       "    <tr>\n",
       "      <th>14996</th>\n",
       "      <td>2.054433</td>\n",
       "      <td>0.72</td>\n",
       "      <td>2.000000</td>\n",
       "      <td>175</td>\n",
       "      <td>0.250000</td>\n",
       "      <td>0</td>\n",
       "      <td>0</td>\n",
       "      <td>1</td>\n",
       "      <td>0</td>\n",
       "      <td>0</td>\n",
       "      <td>0</td>\n",
       "      <td>0</td>\n",
       "      <td>0</td>\n",
       "      <td>0</td>\n",
       "      <td>0</td>\n",
       "      <td>0</td>\n",
       "      <td>0</td>\n",
       "      <td>1</td>\n",
       "    </tr>\n",
       "    <tr>\n",
       "      <th>14997</th>\n",
       "      <td>1.271249</td>\n",
       "      <td>0.91</td>\n",
       "      <td>2.236068</td>\n",
       "      <td>177</td>\n",
       "      <td>0.200000</td>\n",
       "      <td>0</td>\n",
       "      <td>0</td>\n",
       "      <td>1</td>\n",
       "      <td>0</td>\n",
       "      <td>0</td>\n",
       "      <td>0</td>\n",
       "      <td>0</td>\n",
       "      <td>0</td>\n",
       "      <td>0</td>\n",
       "      <td>0</td>\n",
       "      <td>1</td>\n",
       "      <td>0</td>\n",
       "      <td>0</td>\n",
       "    </tr>\n",
       "    <tr>\n",
       "      <th>14998</th>\n",
       "      <td>2.159766</td>\n",
       "      <td>0.83</td>\n",
       "      <td>2.449490</td>\n",
       "      <td>271</td>\n",
       "      <td>0.333333</td>\n",
       "      <td>0</td>\n",
       "      <td>0</td>\n",
       "      <td>1</td>\n",
       "      <td>0</td>\n",
       "      <td>0</td>\n",
       "      <td>0</td>\n",
       "      <td>0</td>\n",
       "      <td>0</td>\n",
       "      <td>0</td>\n",
       "      <td>0</td>\n",
       "      <td>0</td>\n",
       "      <td>1</td>\n",
       "      <td>0</td>\n",
       "    </tr>\n",
       "  </tbody>\n",
       "</table>\n",
       "<p>11991 rows × 18 columns</p>\n",
       "</div>"
      ],
      "text/plain": [
       "       satisfactoryLevel  lastEvaluation  numberOfProjects  avgMonthlyHours  \\\n",
       "0               1.462285            0.53          1.414214              157   \n",
       "1               2.225541            0.86          2.236068              262   \n",
       "2               1.116278            0.88          2.645751              272   \n",
       "3               1.447735            0.52          1.414214              159   \n",
       "4               1.506818            0.50          1.414214              153   \n",
       "5               1.105171            0.77          2.449490              247   \n",
       "6               2.509290            0.85          2.236068              259   \n",
       "7               1.521962            0.53          1.414214              142   \n",
       "8               1.568312            0.54          1.414214              135   \n",
       "9               1.116278            0.81          2.449490              305   \n",
       "10              1.433329            0.56          1.414214              137   \n",
       "11              1.462285            0.54          1.414214              143   \n",
       "12              1.568312            0.47          1.414214              160   \n",
       "13              2.181472            0.99          2.000000              255   \n",
       "14              2.138276            0.89          2.236068              262   \n",
       "15              1.116278            0.83          2.449490              282   \n",
       "16              1.094174            0.95          2.449490              304   \n",
       "17              1.584074            0.57          1.414214              139   \n",
       "18              1.491825            0.53          1.414214              158   \n",
       "19              2.435130            0.92          2.236068              242   \n",
       "20              2.270500            0.87          2.000000              239   \n",
       "21              1.491825            0.49          1.414214              135   \n",
       "22              1.462285            0.50          1.414214              132   \n",
       "23              1.094174            0.62          2.449490              294   \n",
       "24              1.568312            0.57          1.414214              134   \n",
       "25              1.491825            0.51          1.414214              145   \n",
       "26              2.316367            0.87          2.000000              246   \n",
       "27              1.462285            0.46          1.414214              137   \n",
       "28              1.568312            0.50          1.414214              126   \n",
       "29              1.116278            0.89          2.449490              306   \n",
       "...                  ...             ...               ...              ...   \n",
       "14950           1.552707            0.56          1.732051              123   \n",
       "14951           2.117000            0.74          1.732051              186   \n",
       "14953           2.247908            0.75          2.000000              206   \n",
       "14956           1.296930            0.37          1.414214              232   \n",
       "14958           2.203396            0.97          1.732051              271   \n",
       "14960           1.750673            0.62          1.732051              154   \n",
       "14963           1.105171            0.93          2.449490              269   \n",
       "14964           1.803988            0.76          1.732051              264   \n",
       "14965           1.934792            0.98          2.000000              163   \n",
       "14967           1.973878            0.75          2.236068              243   \n",
       "14968           2.585710            0.86          2.236068              143   \n",
       "14972           2.270500            0.97          2.000000              243   \n",
       "14973           2.075081            0.60          1.732051              145   \n",
       "14975           1.768267            1.00          1.732051              241   \n",
       "14976           2.637944            0.66          2.000000              218   \n",
       "14977           1.233678            0.62          2.000000              247   \n",
       "14978           1.896481            0.50          1.732051              238   \n",
       "14980           2.410900            0.75          2.000000              201   \n",
       "14981           2.637944            0.55          2.000000              166   \n",
       "14982           2.410900            0.80          1.732051              133   \n",
       "14983           2.159766            0.67          1.732051              186   \n",
       "14986           2.138276            1.00          2.000000              220   \n",
       "14989           1.993716            0.70          1.732051              212   \n",
       "14990           2.075081            0.52          1.732051              274   \n",
       "14991           2.339647            0.53          1.732051              250   \n",
       "14992           1.349859            0.88          2.236068              245   \n",
       "14995           2.691234            0.83          2.000000              274   \n",
       "14996           2.054433            0.72          2.000000              175   \n",
       "14997           1.271249            0.91          2.236068              177   \n",
       "14998           2.159766            0.83          2.449490              271   \n",
       "\n",
       "       timeSpent.company  workAccident  promotionInLast5years  salary  \\\n",
       "0               0.333333             0                      0       1   \n",
       "1               0.166667             0                      0       2   \n",
       "2               0.250000             0                      0       2   \n",
       "3               0.333333             0                      0       1   \n",
       "4               0.333333             0                      0       1   \n",
       "5               0.250000             0                      0       1   \n",
       "6               0.200000             0                      0       1   \n",
       "7               0.333333             0                      0       1   \n",
       "8               0.333333             0                      0       1   \n",
       "9               0.250000             0                      0       1   \n",
       "10              0.333333             0                      0       1   \n",
       "11              0.333333             0                      0       1   \n",
       "12              0.333333             0                      0       1   \n",
       "13              0.166667             0                      0       1   \n",
       "14              0.200000             0                      0       1   \n",
       "15              0.250000             0                      0       1   \n",
       "16              0.250000             0                      0       1   \n",
       "17              0.333333             0                      0       1   \n",
       "18              0.333333             0                      0       1   \n",
       "19              0.200000             0                      0       1   \n",
       "20              0.200000             0                      0       1   \n",
       "21              0.333333             0                      0       1   \n",
       "22              0.333333             0                      0       1   \n",
       "23              0.250000             0                      0       1   \n",
       "24              0.333333             0                      0       1   \n",
       "25              0.333333             0                      0       1   \n",
       "26              0.166667             0                      0       1   \n",
       "27              0.333333             0                      0       1   \n",
       "28              0.333333             0                      0       1   \n",
       "29              0.250000             0                      0       1   \n",
       "...                  ...           ...                    ...     ...   \n",
       "14950           0.333333             0                      0       2   \n",
       "14951           0.333333             1                      0       2   \n",
       "14953           0.333333             0                      0       2   \n",
       "14956           0.333333             1                      0       1   \n",
       "14958           0.500000             0                      0       2   \n",
       "14960           0.500000             0                      0       1   \n",
       "14963           0.250000             0                      0       1   \n",
       "14964           0.333333             0                      0       2   \n",
       "14965           0.333333             1                      0       1   \n",
       "14967           0.333333             1                      0       1   \n",
       "14968           0.333333             0                      0       2   \n",
       "14972           0.333333             1                      0       1   \n",
       "14973           0.166667             1                      0       2   \n",
       "14975           0.250000             0                      0       1   \n",
       "14976           0.333333             0                      0       0   \n",
       "14977           0.333333             1                      0       1   \n",
       "14978           0.250000             0                      0       1   \n",
       "14980           0.500000             0                      0       2   \n",
       "14981           0.333333             1                      0       0   \n",
       "14982           0.333333             0                      0       2   \n",
       "14983           0.500000             0                      0       1   \n",
       "14986           0.166667             0                      0       2   \n",
       "14989           0.500000             0                      0       2   \n",
       "14990           0.500000             0                      0       0   \n",
       "14991           0.333333             0                      0       2   \n",
       "14992           0.250000             0                      0       1   \n",
       "14995           0.500000             0                      0       1   \n",
       "14996           0.250000             0                      0       1   \n",
       "14997           0.200000             0                      0       1   \n",
       "14998           0.333333             0                      0       1   \n",
       "\n",
       "       dept_IT  dept_RandD  dept_accounting  dept_hr  dept_management  \\\n",
       "0            0           0                0        0                0   \n",
       "1            0           0                0        0                0   \n",
       "2            0           0                0        0                0   \n",
       "3            0           0                0        0                0   \n",
       "4            0           0                0        0                0   \n",
       "5            0           0                0        0                0   \n",
       "6            0           0                0        0                0   \n",
       "7            0           0                0        0                0   \n",
       "8            0           0                0        0                0   \n",
       "9            0           0                0        0                0   \n",
       "10           0           0                0        0                0   \n",
       "11           0           0                0        0                0   \n",
       "12           0           0                0        0                0   \n",
       "13           0           0                0        0                0   \n",
       "14           0           0                0        0                0   \n",
       "15           0           0                0        0                0   \n",
       "16           0           0                0        0                0   \n",
       "17           0           0                0        0                0   \n",
       "18           0           0                0        0                0   \n",
       "19           0           0                0        0                0   \n",
       "20           0           0                0        0                0   \n",
       "21           0           0                0        0                0   \n",
       "22           0           0                1        0                0   \n",
       "23           0           0                1        0                0   \n",
       "24           0           0                0        1                0   \n",
       "25           0           0                0        1                0   \n",
       "26           0           0                0        1                0   \n",
       "27           0           0                0        0                0   \n",
       "28           0           0                0        0                0   \n",
       "29           0           0                0        0                0   \n",
       "...        ...         ...              ...      ...              ...   \n",
       "14950        0           0                1        0                0   \n",
       "14951        0           1                0        0                0   \n",
       "14953        1           0                0        0                0   \n",
       "14956        0           0                0        1                0   \n",
       "14958        0           0                0        1                0   \n",
       "14960        0           0                0        0                0   \n",
       "14963        1           0                0        0                0   \n",
       "14964        0           0                0        0                0   \n",
       "14965        0           0                0        0                0   \n",
       "14967        0           0                0        0                0   \n",
       "14968        0           0                0        0                0   \n",
       "14972        0           0                0        0                0   \n",
       "14973        0           0                0        0                0   \n",
       "14975        0           0                0        0                0   \n",
       "14976        0           0                0        0                0   \n",
       "14977        0           0                0        0                0   \n",
       "14978        0           0                0        0                0   \n",
       "14980        0           0                0        0                0   \n",
       "14981        0           0                1        0                0   \n",
       "14982        0           0                0        0                0   \n",
       "14983        0           0                0        0                0   \n",
       "14986        0           1                0        0                0   \n",
       "14989        0           0                0        0                0   \n",
       "14990        0           0                0        0                0   \n",
       "14991        1           0                0        0                0   \n",
       "14992        0           0                0        1                0   \n",
       "14995        0           0                0        0                0   \n",
       "14996        0           0                0        0                0   \n",
       "14997        0           0                0        0                0   \n",
       "14998        0           0                0        0                0   \n",
       "\n",
       "       dept_marketing  dept_product_mng  dept_sales  dept_support  \\\n",
       "0                   0                 0           1             0   \n",
       "1                   0                 0           1             0   \n",
       "2                   0                 0           1             0   \n",
       "3                   0                 0           1             0   \n",
       "4                   0                 0           1             0   \n",
       "5                   0                 0           1             0   \n",
       "6                   0                 0           1             0   \n",
       "7                   0                 0           1             0   \n",
       "8                   0                 0           1             0   \n",
       "9                   0                 0           1             0   \n",
       "10                  0                 0           1             0   \n",
       "11                  0                 0           1             0   \n",
       "12                  0                 0           1             0   \n",
       "13                  0                 0           1             0   \n",
       "14                  0                 0           1             0   \n",
       "15                  0                 0           1             0   \n",
       "16                  0                 0           1             0   \n",
       "17                  0                 0           1             0   \n",
       "18                  0                 0           1             0   \n",
       "19                  0                 0           1             0   \n",
       "20                  0                 0           1             0   \n",
       "21                  0                 0           1             0   \n",
       "22                  0                 0           0             0   \n",
       "23                  0                 0           0             0   \n",
       "24                  0                 0           0             0   \n",
       "25                  0                 0           0             0   \n",
       "26                  0                 0           0             0   \n",
       "27                  0                 0           0             0   \n",
       "28                  0                 0           0             0   \n",
       "29                  0                 0           0             0   \n",
       "...               ...               ...         ...           ...   \n",
       "14950               0                 0           0             0   \n",
       "14951               0                 0           0             0   \n",
       "14953               0                 0           0             0   \n",
       "14956               0                 0           0             0   \n",
       "14958               0                 0           0             0   \n",
       "14960               0                 0           1             0   \n",
       "14963               0                 0           0             0   \n",
       "14964               0                 0           0             0   \n",
       "14965               0                 0           1             0   \n",
       "14967               0                 0           0             1   \n",
       "14968               0                 0           0             0   \n",
       "14972               0                 0           0             0   \n",
       "14973               0                 0           0             0   \n",
       "14975               0                 0           0             0   \n",
       "14976               0                 0           1             0   \n",
       "14977               0                 1           0             0   \n",
       "14978               0                 0           0             0   \n",
       "14980               0                 0           1             0   \n",
       "14981               0                 0           0             0   \n",
       "14982               0                 1           0             0   \n",
       "14983               0                 0           0             0   \n",
       "14986               0                 0           0             0   \n",
       "14989               0                 1           0             0   \n",
       "14990               0                 0           0             0   \n",
       "14991               0                 0           0             0   \n",
       "14992               0                 0           0             0   \n",
       "14995               0                 0           1             0   \n",
       "14996               0                 0           0             0   \n",
       "14997               0                 0           1             0   \n",
       "14998               0                 0           0             1   \n",
       "\n",
       "       dept_technical  \n",
       "0                   0  \n",
       "1                   0  \n",
       "2                   0  \n",
       "3                   0  \n",
       "4                   0  \n",
       "5                   0  \n",
       "6                   0  \n",
       "7                   0  \n",
       "8                   0  \n",
       "9                   0  \n",
       "10                  0  \n",
       "11                  0  \n",
       "12                  0  \n",
       "13                  0  \n",
       "14                  0  \n",
       "15                  0  \n",
       "16                  0  \n",
       "17                  0  \n",
       "18                  0  \n",
       "19                  0  \n",
       "20                  0  \n",
       "21                  0  \n",
       "22                  0  \n",
       "23                  0  \n",
       "24                  0  \n",
       "25                  0  \n",
       "26                  0  \n",
       "27                  1  \n",
       "28                  1  \n",
       "29                  1  \n",
       "...               ...  \n",
       "14950               0  \n",
       "14951               0  \n",
       "14953               0  \n",
       "14956               0  \n",
       "14958               0  \n",
       "14960               0  \n",
       "14963               0  \n",
       "14964               1  \n",
       "14965               0  \n",
       "14967               0  \n",
       "14968               1  \n",
       "14972               1  \n",
       "14973               1  \n",
       "14975               1  \n",
       "14976               0  \n",
       "14977               0  \n",
       "14978               1  \n",
       "14980               0  \n",
       "14981               0  \n",
       "14982               0  \n",
       "14983               1  \n",
       "14986               0  \n",
       "14989               0  \n",
       "14990               1  \n",
       "14991               0  \n",
       "14992               0  \n",
       "14995               0  \n",
       "14996               1  \n",
       "14997               0  \n",
       "14998               0  \n",
       "\n",
       "[11991 rows x 18 columns]"
      ]
     },
     "execution_count": 115,
     "metadata": {},
     "output_type": "execute_result"
    }
   ],
   "source": [
    "x=pcc_new # Independent Features\n",
    "y=pcc['left'] #Dependent Features\n",
    "x"
   ]
  },
  {
   "cell_type": "code",
   "execution_count": 116,
   "metadata": {},
   "outputs": [],
   "source": [
    "from sklearn.neighbors import KNeighborsClassifier\n",
    "from sklearn.model_selection import train_test_split\n",
    "from sklearn.metrics import r2_score,accuracy_score"
   ]
  },
  {
   "cell_type": "code",
   "execution_count": 117,
   "metadata": {},
   "outputs": [],
   "source": [
    "x_train,x_test,y_train,y_test= train_test_split(x,y,test_size=0.2,random_state=3)"
   ]
  },
  {
   "cell_type": "code",
   "execution_count": 118,
   "metadata": {},
   "outputs": [
    {
     "data": {
      "text/plain": [
       "2399"
      ]
     },
     "execution_count": 118,
     "metadata": {},
     "output_type": "execute_result"
    }
   ],
   "source": [
    "len(x_test)"
   ]
  },
  {
   "cell_type": "code",
   "execution_count": 119,
   "metadata": {},
   "outputs": [
    {
     "name": "stdout",
     "output_type": "stream",
     "text": [
      "KNN Score= 88.91204668611921\n"
     ]
    }
   ],
   "source": [
    "knn=KNeighborsClassifier(n_neighbors=13)\n",
    "knn.fit(x_train,y_train)\n",
    "print(\"KNN Score=\",knn.score(x_test,y_test)*100)\n",
    "prediction=knn.predict(x_test)"
   ]
  },
  {
   "cell_type": "code",
   "execution_count": 120,
   "metadata": {},
   "outputs": [
    {
     "name": "stdout",
     "output_type": "stream",
     "text": [
      "Confusion Matrix  for KNN is:\n",
      "[[1939   63]\n",
      " [ 203  194]]\n"
     ]
    }
   ],
   "source": [
    "from sklearn.metrics import confusion_matrix\n",
    "cm=confusion_matrix(y_test,prediction)\n",
    "print(\"Confusion Matrix  for KNN is:\", cm,sep='\\n')"
   ]
  },
  {
   "cell_type": "code",
   "execution_count": 121,
   "metadata": {},
   "outputs": [],
   "source": [
    "k_list=[i for i in range(1,31)]"
   ]
  },
  {
   "cell_type": "code",
   "execution_count": 122,
   "metadata": {},
   "outputs": [],
   "source": [
    "mis_class=[]\n",
    "for k in k_list:\n",
    "    knn=KNeighborsClassifier(n_neighbors=k)\n",
    "    knn.fit(x_train,y_train)\n",
    "    prediction=knn.predict(x_test)\n",
    "    mis_class.append(sum(prediction!=y_test))"
   ]
  },
  {
   "cell_type": "code",
   "execution_count": 123,
   "metadata": {},
   "outputs": [
    {
     "data": {
      "image/png": "[encoded data removed]",
      "text/plain": [
       "<Figure size 648x360 with 1 Axes>"
      ]
     },
     "metadata": {
      "needs_background": "light"
     },
     "output_type": "display_data"
    }
   ],
   "source": [
    "plt.rcParams['figure.figsize']=[9,5]\n",
    "fig=plt.figure()\n",
    "plt.plot(k_list,mis_class,color='red',linestyle='dashed',marker='o',\n",
    "        markerfacecolor='blue',markersize=5)\n",
    "plt.title('K value V/S Error Rate')\n",
    "plt.xlabel('K Value')\n",
    "plt.ylabel('Mean Error')\n",
    "plt.show()"
   ]
  },
  {
   "cell_type": "markdown",
   "metadata": {},
   "source": [
    "- The Plot shows the appropriate value of the K where there will be minimum error Here the appropriate k value is '13'"
   ]
  },
  {
   "cell_type": "code",
   "execution_count": 124,
   "metadata": {},
   "outputs": [
    {
     "data": {
      "text/plain": [
       "array([[1.        , 0.        ],\n",
       "       [1.        , 0.        ],\n",
       "       [0.8       , 0.2       ],\n",
       "       ...,\n",
       "       [1.        , 0.        ],\n",
       "       [1.        , 0.        ],\n",
       "       [0.86666667, 0.13333333]])"
      ]
     },
     "execution_count": 124,
     "metadata": {},
     "output_type": "execute_result"
    }
   ],
   "source": [
    "probs=knn.predict_proba(x_test) # It will give the probabilities of classes for predicted value\n",
    "probs"
   ]
  },
  {
   "cell_type": "code",
   "execution_count": 125,
   "metadata": {},
   "outputs": [
    {
     "name": "stdout",
     "output_type": "stream",
     "text": [
      "Area Under the curve:  87.35219440509114\n"
     ]
    }
   ],
   "source": [
    "#ROC calculation for KNN\n",
    "from sklearn import metrics\n",
    "prob_positive=probs[:,1]\n",
    "fpr,tpr,threshold=metrics.roc_curve(y_test,prob_positive)\n",
    "roc_auc=metrics.auc(fpr,tpr)\n",
    "print('Area Under the curve: ',(roc_auc)*100)"
   ]
  },
  {
   "cell_type": "code",
   "execution_count": 126,
   "metadata": {},
   "outputs": [
    {
     "name": "stdout",
     "output_type": "stream",
     "text": [
      "              precision    recall  f1-score   support\n",
      "\n",
      "           0       0.88      0.98      0.93      2002\n",
      "           1       0.79      0.34      0.48       397\n",
      "\n",
      "    accuracy                           0.88      2399\n",
      "   macro avg       0.83      0.66      0.70      2399\n",
      "weighted avg       0.87      0.88      0.85      2399\n",
      "\n"
     ]
    }
   ],
   "source": [
    "from sklearn.metrics import classification_report\n",
    "print(classification_report(y_test,prediction))"
   ]
  },
  {
   "cell_type": "code",
   "execution_count": 127,
   "metadata": {},
   "outputs": [
    {
     "data": {
      "image/png": "[encoded data removed]",
      "text/plain": [
       "<Figure size 648x360 with 1 Axes>"
      ]
     },
     "metadata": {
      "needs_background": "light"
     },
     "output_type": "display_data"
    }
   ],
   "source": [
    "plt.rcParams['figure.figsize']=[9,5]\n",
    "fig=plt.figure()\n",
    "\n",
    "plt.title('Receiver Operating Characteristics')\n",
    "plt.plot(fpr,tpr,'orange',label='AUC= %0.2f'% roc_auc)\n",
    "plt.legend(loc='lower right')\n",
    "plt.plot([0,1],[0,1],color='darkblue',linestyle='--')\n",
    "plt.ylabel('True Positive Rate')\n",
    "plt.xlabel('False Positive Rate')\n",
    "plt.show()"
   ]
  },
  {
   "cell_type": "markdown",
   "metadata": {},
   "source": [
    "- The ROC curve shows the trade-off between sensitivity (or TPR) and specificity (1 – FPR). The closer the curve comes to the 45-degree diagonal of the ROC space or AUC(Area Under the Curve), the less accurate the test."
   ]
  },
  {
   "cell_type": "markdown",
   "metadata": {},
   "source": [
    "# Logistic Regression"
   ]
  },
  {
   "cell_type": "code",
   "execution_count": 128,
   "metadata": {},
   "outputs": [
    {
     "name": "stderr",
     "output_type": "stream",
     "text": [
      "C:\\Users\\Administrator\\AppData\\Roaming\\Python\\Python37\\site-packages\\sklearn\\linear_model\\logistic.py:432: FutureWarning: Default solver will be changed to 'lbfgs' in 0.22. Specify a solver to silence this warning.\n",
      "  FutureWarning)\n"
     ]
    }
   ],
   "source": [
    "from sklearn.linear_model import LogisticRegression\n",
    "lreg=LogisticRegression()\n",
    "lreg=lreg.fit(x_train,y_train)\n"
   ]
  },
  {
   "cell_type": "code",
   "execution_count": 129,
   "metadata": {},
   "outputs": [
    {
     "name": "stdout",
     "output_type": "stream",
     "text": [
      "[[-2.14515111e+00  9.11746360e-01 -1.46992501e+00  5.16453160e-03\n",
      "  -6.43368185e+00 -1.42310540e+00 -1.63147386e+00  2.63765411e-02\n",
      "   4.68312659e-01  1.69507703e-01  5.14266209e-01  6.64545542e-01\n",
      "   3.67166828e-02  6.05370873e-01  4.11340129e-01  6.09947402e-01\n",
      "   7.23053888e-01  6.91571207e-01]]\n"
     ]
    }
   ],
   "source": [
    "print(lreg.coef_)"
   ]
  },
  {
   "cell_type": "code",
   "execution_count": 130,
   "metadata": {},
   "outputs": [
    {
     "name": "stdout",
     "output_type": "stream",
     "text": [
      "[4.8946323]\n"
     ]
    }
   ],
   "source": [
    "print(lreg.intercept_)"
   ]
  },
  {
   "cell_type": "code",
   "execution_count": 131,
   "metadata": {},
   "outputs": [
    {
     "data": {
      "text/plain": [
       "2399"
      ]
     },
     "execution_count": 131,
     "metadata": {},
     "output_type": "execute_result"
    }
   ],
   "source": [
    "y_predict=lreg.predict(x_test)\n",
    "len(y_predict)"
   ]
  },
  {
   "cell_type": "code",
   "execution_count": 132,
   "metadata": {},
   "outputs": [
    {
     "name": "stdout",
     "output_type": "stream",
     "text": [
      "Confusion Matrix for logistic Regression :\n",
      "[[1913   89]\n",
      " [ 327   70]]\n"
     ]
    }
   ],
   "source": [
    "#Confusion Matrix for Logistic Regression\n",
    "cm=confusion_matrix(y_test,y_predict)\n",
    "print(\"Confusion Matrix for logistic Regression :\", cm,sep='\\n')"
   ]
  },
  {
   "cell_type": "code",
   "execution_count": 133,
   "metadata": {},
   "outputs": [
    {
     "data": {
      "text/plain": [
       "array([[0.94650096, 0.05349904],\n",
       "       [0.88672373, 0.11327627],\n",
       "       [0.98125339, 0.01874661],\n",
       "       ...,\n",
       "       [0.45296588, 0.54703412],\n",
       "       [0.62250228, 0.37749772],\n",
       "       [0.59484712, 0.40515288]])"
      ]
     },
     "execution_count": 133,
     "metadata": {},
     "output_type": "execute_result"
    }
   ],
   "source": [
    "probs=lreg.predict_proba(x_test) # will give the probabitlities of classes for predicted value\n",
    "probs"
   ]
  },
  {
   "cell_type": "code",
   "execution_count": 134,
   "metadata": {},
   "outputs": [
    {
     "name": "stdout",
     "output_type": "stream",
     "text": [
      "Area Under the curve:  82.84876332735276\n",
      "Accuracy Score :  82.65944143393081\n"
     ]
    }
   ],
   "source": [
    "#ROC calculation\n",
    "\n",
    "prob_positive=probs[:,1]\n",
    "fpr,tpr,threshold=metrics.roc_curve(y_test,prob_positive)\n",
    "roc_auc=metrics.auc(fpr,tpr)\n",
    "print('Area Under the curve: ',(roc_auc)*100)\n",
    "print(\"Accuracy Score : \",lreg.score(x_test,y_test)*100)"
   ]
  },
  {
   "cell_type": "code",
   "execution_count": 135,
   "metadata": {},
   "outputs": [
    {
     "data": {
      "text/plain": [
       "array([0.05349904, 0.11327627, 0.01874661, ..., 0.54703412, 0.37749772,\n",
       "       0.40515288])"
      ]
     },
     "execution_count": 135,
     "metadata": {},
     "output_type": "execute_result"
    }
   ],
   "source": [
    "prob_positive"
   ]
  },
  {
   "cell_type": "code",
   "execution_count": 136,
   "metadata": {},
   "outputs": [
    {
     "data": {
      "image/png": "[encoded data removed]",
      "text/plain": [
       "<Figure size 648x360 with 1 Axes>"
      ]
     },
     "metadata": {
      "needs_background": "light"
     },
     "output_type": "display_data"
    }
   ],
   "source": [
    "#Plot ROC Curve for Logistics\n",
    "plt.rcParams['figure.figsize']=[9,5]\n",
    "fig=plt.figure()\n",
    "\n",
    "plt.title('Receiver Operating Characteristics')\n",
    "plt.plot(fpr,tpr,'orange',label='AUC= %0.2f'% roc_auc)\n",
    "plt.legend(loc='lower right')\n",
    "plt.plot([0,1],[0,1],color='darkblue',linestyle='--')\n",
    "plt.ylabel('True Positive Rate')\n",
    "plt.xlabel('False Positive Rate')\n",
    "plt.show()"
   ]
  },
  {
   "cell_type": "code",
   "execution_count": 137,
   "metadata": {},
   "outputs": [
    {
     "name": "stdout",
     "output_type": "stream",
     "text": [
      "              precision    recall  f1-score   support\n",
      "\n",
      "           0       0.85      0.96      0.90      2002\n",
      "           1       0.44      0.18      0.25       397\n",
      "\n",
      "    accuracy                           0.83      2399\n",
      "   macro avg       0.65      0.57      0.58      2399\n",
      "weighted avg       0.79      0.83      0.79      2399\n",
      "\n"
     ]
    }
   ],
   "source": [
    "print(classification_report(y_test,y_predict))"
   ]
  },
  {
   "cell_type": "markdown",
   "metadata": {},
   "source": [
    "# Naive Bayes Algorithm"
   ]
  },
  {
   "cell_type": "code",
   "execution_count": 138,
   "metadata": {},
   "outputs": [],
   "source": [
    "from sklearn.naive_bayes import GaussianNB"
   ]
  },
  {
   "cell_type": "code",
   "execution_count": 139,
   "metadata": {},
   "outputs": [
    {
     "name": "stdout",
     "output_type": "stream",
     "text": [
      "nb Score= 76.82367653188828\n"
     ]
    }
   ],
   "source": [
    "nb=GaussianNB()\n",
    "nb.fit(x_train,y_train)\n",
    "prediction=nb.predict(x_test)\n",
    "print(\"nb Score=\",accuracy_score(y_test,prediction)*100)"
   ]
  },
  {
   "cell_type": "code",
   "execution_count": 140,
   "metadata": {},
   "outputs": [
    {
     "name": "stdout",
     "output_type": "stream",
     "text": [
      "Confusion Matrix  Naive Bayes:\n",
      "[[1552  450]\n",
      " [ 106  291]]\n"
     ]
    }
   ],
   "source": [
    "# Confusion Matrix for Naive Bayes Algorithm\n",
    "cm=confusion_matrix(y_test,prediction)\n",
    "print(\"Confusion Matrix  Naive Bayes:\", cm,sep='\\n')"
   ]
  },
  {
   "cell_type": "code",
   "execution_count": 141,
   "metadata": {},
   "outputs": [
    {
     "data": {
      "text/plain": [
       "array([[9.96055130e-01, 3.94487007e-03],\n",
       "       [6.01724382e-01, 3.98275618e-01],\n",
       "       [9.99991048e-01, 8.95248458e-06],\n",
       "       ...,\n",
       "       [1.91636731e-02, 9.80836327e-01],\n",
       "       [1.50714574e-01, 8.49285426e-01],\n",
       "       [7.21712462e-01, 2.78287538e-01]])"
      ]
     },
     "execution_count": 141,
     "metadata": {},
     "output_type": "execute_result"
    }
   ],
   "source": [
    "probs=nb.predict_proba(x_test)#will give the probabitlities of classes for predicted value\n",
    "probs"
   ]
  },
  {
   "cell_type": "code",
   "execution_count": 142,
   "metadata": {},
   "outputs": [
    {
     "name": "stdout",
     "output_type": "stream",
     "text": [
      "Area Under the curve:  82.10353877860175\n"
     ]
    }
   ],
   "source": [
    "prob_positive=probs[:,1]\n",
    "fpr,tpr,threshold=metrics.roc_curve(y_test,prob_positive)\n",
    "roc_auc=metrics.auc(fpr,tpr)\n",
    "print('Area Under the curve: ',(roc_auc)*100)"
   ]
  },
  {
   "cell_type": "code",
   "execution_count": 143,
   "metadata": {},
   "outputs": [
    {
     "data": {
      "image/png": "[encoded data removed]",
      "text/plain": [
       "<Figure size 648x360 with 1 Axes>"
      ]
     },
     "metadata": {
      "needs_background": "light"
     },
     "output_type": "display_data"
    }
   ],
   "source": [
    "#Plot ROC Curve for Naive Bayes\n",
    "plt.rcParams['figure.figsize']=[9,5]\n",
    "fig=plt.figure()\n",
    "\n",
    "plt.title('Receiver Operating Characteristics')\n",
    "plt.plot(fpr,tpr,'orange',label='AUC= %0.2f'% roc_auc)\n",
    "plt.legend(loc='lower right')\n",
    "plt.plot([0,1],[0,1],color='darkblue',linestyle='--')\n",
    "plt.ylabel('True Positive Rate')\n",
    "plt.xlabel('False Positive Rate')\n",
    "plt.show()"
   ]
  },
  {
   "cell_type": "code",
   "execution_count": 144,
   "metadata": {},
   "outputs": [
    {
     "name": "stdout",
     "output_type": "stream",
     "text": [
      "              precision    recall  f1-score   support\n",
      "\n",
      "           0       0.94      0.78      0.85      2002\n",
      "           1       0.39      0.73      0.51       397\n",
      "\n",
      "    accuracy                           0.77      2399\n",
      "   macro avg       0.66      0.75      0.68      2399\n",
      "weighted avg       0.85      0.77      0.79      2399\n",
      "\n"
     ]
    }
   ],
   "source": [
    "print(classification_report(y_test,prediction))"
   ]
  },
  {
   "cell_type": "markdown",
   "metadata": {},
   "source": [
    "# Decision Tree"
   ]
  },
  {
   "cell_type": "code",
   "execution_count": 145,
   "metadata": {},
   "outputs": [],
   "source": [
    "from sklearn.tree import DecisionTreeClassifier"
   ]
  },
  {
   "cell_type": "code",
   "execution_count": 146,
   "metadata": {},
   "outputs": [
    {
     "data": {
      "text/plain": [
       "DecisionTreeClassifier(class_weight=None, criterion='gini', max_depth=4,\n",
       "                       max_features=None, max_leaf_nodes=10,\n",
       "                       min_impurity_decrease=0.0, min_impurity_split=None,\n",
       "                       min_samples_leaf=5, min_samples_split=2,\n",
       "                       min_weight_fraction_leaf=0.0, presort=False,\n",
       "                       random_state=None, splitter='random')"
      ]
     },
     "execution_count": 146,
     "metadata": {},
     "output_type": "execute_result"
    }
   ],
   "source": [
    "clf=DecisionTreeClassifier(criterion='gini',splitter='random',max_leaf_nodes=10,min_samples_leaf=5,max_depth=4)\n",
    "clf.fit(x_train,y_train)"
   ]
  },
  {
   "cell_type": "code",
   "execution_count": 147,
   "metadata": {},
   "outputs": [
    {
     "data": {
      "text/plain": [
       "array([0, 0, 0, ..., 1, 0, 0], dtype=int64)"
      ]
     },
     "execution_count": 147,
     "metadata": {},
     "output_type": "execute_result"
    }
   ],
   "source": [
    "y_pred=clf.predict(x_test)\n",
    "y_pred"
   ]
  },
  {
   "cell_type": "code",
   "execution_count": 148,
   "metadata": {
    "scrolled": true
   },
   "outputs": [
    {
     "name": "stdout",
     "output_type": "stream",
     "text": [
      "['satisfactoryLevel', 'lastEvaluation', 'numberOfProjects', 'avgMonthlyHours', 'timeSpent.company', 'workAccident', 'promotionInLast5years', 'salary', 'dept_IT', 'dept_RandD', 'dept_accounting', 'dept_hr', 'dept_management', 'dept_marketing', 'dept_product_mng', 'dept_sales', 'dept_support', 'dept_technical']\n"
     ]
    }
   ],
   "source": [
    "cols=list(x.columns.values)\n",
    "print(cols)"
   ]
  },
  {
   "cell_type": "code",
   "execution_count": 149,
   "metadata": {},
   "outputs": [
    {
     "data": {
      "image/png": "[encoded data removed]",
      "text/plain": [
       "<Figure size 1080x576 with 1 Axes>"
      ]
     },
     "metadata": {
      "needs_background": "light"
     },
     "output_type": "display_data"
    }
   ],
   "source": [
    "from sklearn import tree\n",
    "plt.figure(figsize=(15,8))\n",
    "\n",
    "tree.plot_tree(clf.fit(x_train,y_train),feature_names=cols,filled=True,\n",
    "              precision=3,proportion=True,rounded=True)\n",
    "plt.show()"
   ]
  },
  {
   "cell_type": "code",
   "execution_count": 150,
   "metadata": {},
   "outputs": [
    {
     "name": "stdout",
     "output_type": "stream",
     "text": [
      "Confusion Matrix for Decision Tree is:\n",
      "[[1913   89]\n",
      " [ 128  269]]\n"
     ]
    }
   ],
   "source": [
    "cm=confusion_matrix(y_test,y_pred)\n",
    "print(\"Confusion Matrix for Decision Tree is:\", cm,sep='\\n')"
   ]
  },
  {
   "cell_type": "code",
   "execution_count": 151,
   "metadata": {},
   "outputs": [
    {
     "name": "stdout",
     "output_type": "stream",
     "text": [
      "DecisionTree Score= 90.95456440183409\n"
     ]
    }
   ],
   "source": [
    "print(\"DecisionTree Score=\",accuracy_score(y_test,y_pred)*100)"
   ]
  },
  {
   "cell_type": "code",
   "execution_count": 152,
   "metadata": {},
   "outputs": [
    {
     "data": {
      "text/plain": [
       "array([[0.98335855, 0.01664145],\n",
       "       [0.87822557, 0.12177443],\n",
       "       [0.87822557, 0.12177443],\n",
       "       ...,\n",
       "       [0.96214511, 0.03785489],\n",
       "       [0.96214511, 0.03785489],\n",
       "       [0.65697674, 0.34302326]])"
      ]
     },
     "execution_count": 152,
     "metadata": {},
     "output_type": "execute_result"
    }
   ],
   "source": [
    "probs=clf.predict_proba(x_test)#will give the probabitlities of classes for predicted value\n",
    "probs"
   ]
  },
  {
   "cell_type": "code",
   "execution_count": 153,
   "metadata": {},
   "outputs": [
    {
     "name": "stdout",
     "output_type": "stream",
     "text": [
      "Area Under the curve:  88.1381213245193\n"
     ]
    }
   ],
   "source": [
    "prob_positive=probs[:,1]\n",
    "fpr,tpr,threshold=metrics.roc_curve(y_test,prob_positive)\n",
    "roc_auc=metrics.auc(fpr,tpr)\n",
    "print('Area Under the curve: ',(roc_auc)*100)"
   ]
  },
  {
   "cell_type": "code",
   "execution_count": 154,
   "metadata": {},
   "outputs": [
    {
     "data": {
      "image/png": "[encoded data removed]",
      "text/plain": [
       "<Figure size 648x360 with 1 Axes>"
      ]
     },
     "metadata": {
      "needs_background": "light"
     },
     "output_type": "display_data"
    }
   ],
   "source": [
    "#Plot ROC Curve for Decision Tree\n",
    "plt.rcParams['figure.figsize']=[9,5]\n",
    "fig=plt.figure()\n",
    "\n",
    "plt.title('Receiver Operating Characteristics')\n",
    "plt.plot(fpr,tpr,'orange',label='AUC= %0.2f'% roc_auc)\n",
    "plt.legend(loc='lower right')\n",
    "plt.plot([0,1],[0,1],color='darkblue',linestyle='--')\n",
    "plt.ylabel('True Positive Rate')\n",
    "plt.xlabel('False Positive Rate')\n",
    "plt.show()"
   ]
  },
  {
   "cell_type": "code",
   "execution_count": 155,
   "metadata": {},
   "outputs": [
    {
     "name": "stdout",
     "output_type": "stream",
     "text": [
      "              precision    recall  f1-score   support\n",
      "\n",
      "           0       0.94      0.96      0.95      2002\n",
      "           1       0.75      0.68      0.71       397\n",
      "\n",
      "    accuracy                           0.91      2399\n",
      "   macro avg       0.84      0.82      0.83      2399\n",
      "weighted avg       0.91      0.91      0.91      2399\n",
      "\n"
     ]
    }
   ],
   "source": [
    "print(classification_report(y_test,y_pred))"
   ]
  },
  {
   "cell_type": "markdown",
   "metadata": {},
   "source": [
    "# Random Forest Algorithm"
   ]
  },
  {
   "cell_type": "code",
   "execution_count": 156,
   "metadata": {},
   "outputs": [],
   "source": [
    "from sklearn.ensemble import RandomForestClassifier,AdaBoostClassifier,GradientBoostingClassifier"
   ]
  },
  {
   "cell_type": "code",
   "execution_count": 157,
   "metadata": {},
   "outputs": [
    {
     "data": {
      "text/plain": [
       "0.9820758649437266"
      ]
     },
     "execution_count": 157,
     "metadata": {},
     "output_type": "execute_result"
    }
   ],
   "source": [
    "rf=RandomForestClassifier(n_estimators=100,random_state=0) #n_estimators indicates the number of trees in the forest\n",
    "rf.fit(x_train,y_train)\n",
    "y_pred=rf.predict(x_test)\n",
    "accuracy_score(y_test,y_pred)"
   ]
  },
  {
   "cell_type": "code",
   "execution_count": 158,
   "metadata": {},
   "outputs": [
    {
     "name": "stdout",
     "output_type": "stream",
     "text": [
      "Confusion Matrix Random Forest Algorithm is:\n",
      "[[1998    4]\n",
      " [  39  358]]\n"
     ]
    }
   ],
   "source": [
    "cm=confusion_matrix(y_test,y_pred)\n",
    "print(\"Confusion Matrix Random Forest Algorithm is:\", cm,sep='\\n')"
   ]
  },
  {
   "cell_type": "code",
   "execution_count": 159,
   "metadata": {},
   "outputs": [
    {
     "data": {
      "text/plain": [
       "array([[1.  , 0.  ],\n",
       "       [1.  , 0.  ],\n",
       "       [1.  , 0.  ],\n",
       "       ...,\n",
       "       [0.95, 0.05],\n",
       "       [1.  , 0.  ],\n",
       "       [0.92, 0.08]])"
      ]
     },
     "execution_count": 159,
     "metadata": {},
     "output_type": "execute_result"
    }
   ],
   "source": [
    "probs=rf.predict_proba(x_test)#will give the probabitlities of classes for predicted value\n",
    "probs"
   ]
  },
  {
   "cell_type": "code",
   "execution_count": 160,
   "metadata": {},
   "outputs": [
    {
     "name": "stdout",
     "output_type": "stream",
     "text": [
      "Area Under the curve:  98.26841923819254\n"
     ]
    }
   ],
   "source": [
    "prob_positive=probs[:,1]\n",
    "fpr,tpr,threshold=metrics.roc_curve(y_test,prob_positive)\n",
    "roc_auc=metrics.auc(fpr,tpr)\n",
    "print('Area Under the curve: ',(roc_auc)*100)"
   ]
  },
  {
   "cell_type": "code",
   "execution_count": 161,
   "metadata": {},
   "outputs": [
    {
     "data": {
      "image/png": "[encoded data removed]",
      "text/plain": [
       "<Figure size 648x360 with 1 Axes>"
      ]
     },
     "metadata": {
      "needs_background": "light"
     },
     "output_type": "display_data"
    }
   ],
   "source": [
    "#Plot ROC Curve for Random Forest\n",
    "plt.rcParams['figure.figsize']=[9,5]\n",
    "fig=plt.figure()\n",
    "\n",
    "plt.title('Receiver Operating Characteristics')\n",
    "plt.plot(fpr,tpr,'orange',label='AUC= %0.2f'% roc_auc)\n",
    "plt.legend(loc='lower right')\n",
    "plt.plot([0,1],[0,1],color='darkblue',linestyle='--')\n",
    "plt.ylabel('True Positive Rate')\n",
    "plt.xlabel('False Positive Rate')\n",
    "plt.show()"
   ]
  },
  {
   "cell_type": "code",
   "execution_count": 162,
   "metadata": {},
   "outputs": [
    {
     "name": "stdout",
     "output_type": "stream",
     "text": [
      "              precision    recall  f1-score   support\n",
      "\n",
      "           0       0.98      1.00      0.99      2002\n",
      "           1       0.99      0.90      0.94       397\n",
      "\n",
      "    accuracy                           0.98      2399\n",
      "   macro avg       0.98      0.95      0.97      2399\n",
      "weighted avg       0.98      0.98      0.98      2399\n",
      "\n"
     ]
    }
   ],
   "source": [
    "print(classification_report(y_test,y_pred))"
   ]
  },
  {
   "cell_type": "markdown",
   "metadata": {},
   "source": [
    "# AdaBoost Algorithm"
   ]
  },
  {
   "cell_type": "code",
   "execution_count": 163,
   "metadata": {},
   "outputs": [
    {
     "data": {
      "text/plain": [
       "0.9624843684868696"
      ]
     },
     "execution_count": 163,
     "metadata": {},
     "output_type": "execute_result"
    }
   ],
   "source": [
    "ab=AdaBoostClassifier(n_estimators=100)\n",
    "ab.fit(x_train,y_train)\n",
    "y_pred=ab.predict(x_test)\n",
    "accuracy_score(y_test,y_pred)"
   ]
  },
  {
   "cell_type": "code",
   "execution_count": 164,
   "metadata": {},
   "outputs": [
    {
     "name": "stdout",
     "output_type": "stream",
     "text": [
      "Confusion Matrix AdaBoost Algorithm is:\n",
      "[[1972   30]\n",
      " [  60  337]]\n"
     ]
    }
   ],
   "source": [
    "cm=confusion_matrix(y_test,y_pred)\n",
    "print(\"Confusion Matrix AdaBoost Algorithm is:\", cm,sep='\\n')"
   ]
  },
  {
   "cell_type": "code",
   "execution_count": 165,
   "metadata": {},
   "outputs": [
    {
     "data": {
      "text/plain": [
       "array([[0.51757083, 0.48242917],\n",
       "       [0.5108885 , 0.4891115 ],\n",
       "       [0.51463932, 0.48536068],\n",
       "       ...,\n",
       "       [0.67837717, 0.32162283],\n",
       "       [0.51722963, 0.48277037],\n",
       "       [0.50371096, 0.49628904]])"
      ]
     },
     "execution_count": 165,
     "metadata": {},
     "output_type": "execute_result"
    }
   ],
   "source": [
    "probs=ab.predict_proba(x_test)#will give the probabitlities of classes for predicted value\n",
    "probs"
   ]
  },
  {
   "cell_type": "code",
   "execution_count": 166,
   "metadata": {},
   "outputs": [
    {
     "name": "stdout",
     "output_type": "stream",
     "text": [
      "Area Under the curve:  97.58251823743007\n"
     ]
    }
   ],
   "source": [
    "prob_positive=probs[:,1]\n",
    "fpr,tpr,threshold=metrics.roc_curve(y_test,prob_positive)\n",
    "roc_auc=metrics.auc(fpr,tpr)\n",
    "print('Area Under the curve: ',(roc_auc)*100)"
   ]
  },
  {
   "cell_type": "code",
   "execution_count": 167,
   "metadata": {
    "scrolled": true
   },
   "outputs": [
    {
     "data": {
      "image/png": "[encoded data removed]",
      "text/plain": [
       "<Figure size 648x360 with 1 Axes>"
      ]
     },
     "metadata": {
      "needs_background": "light"
     },
     "output_type": "display_data"
    }
   ],
   "source": [
    "#Plot ROC Curve for AdaBosst\n",
    "plt.rcParams['figure.figsize']=[9,5]\n",
    "fig=plt.figure()\n",
    "\n",
    "plt.title('Receiver Operating Characteristics')\n",
    "plt.plot(fpr,tpr,'orange',label='AUC= %0.2f'% roc_auc)\n",
    "plt.legend(loc='lower right')\n",
    "plt.plot([0,1],[0,1],color='darkblue',linestyle='--')\n",
    "plt.ylabel('True Positive Rate')\n",
    "plt.xlabel('False Positive Rate')\n",
    "plt.show()"
   ]
  },
  {
   "cell_type": "code",
   "execution_count": 168,
   "metadata": {},
   "outputs": [
    {
     "name": "stdout",
     "output_type": "stream",
     "text": [
      "              precision    recall  f1-score   support\n",
      "\n",
      "           0       0.97      0.99      0.98      2002\n",
      "           1       0.92      0.85      0.88       397\n",
      "\n",
      "    accuracy                           0.96      2399\n",
      "   macro avg       0.94      0.92      0.93      2399\n",
      "weighted avg       0.96      0.96      0.96      2399\n",
      "\n"
     ]
    }
   ],
   "source": [
    "print(classification_report(y_test,y_pred))"
   ]
  },
  {
   "cell_type": "markdown",
   "metadata": {},
   "source": [
    "# Gradient Boosting"
   ]
  },
  {
   "cell_type": "code",
   "execution_count": 169,
   "metadata": {},
   "outputs": [
    {
     "data": {
      "text/plain": [
       "0.9812421842434348"
      ]
     },
     "execution_count": 169,
     "metadata": {},
     "output_type": "execute_result"
    }
   ],
   "source": [
    "gb=GradientBoostingClassifier(n_estimators=100)\n",
    "gb.fit(x_train,y_train)\n",
    "y_pred=gb.predict(x_test)\n",
    "accuracy_score(y_test,y_pred)"
   ]
  },
  {
   "cell_type": "code",
   "execution_count": 170,
   "metadata": {},
   "outputs": [
    {
     "name": "stdout",
     "output_type": "stream",
     "text": [
      "Confusion Matrix Gradient Algorithm is:\n",
      "[[1991   11]\n",
      " [  34  363]]\n"
     ]
    }
   ],
   "source": [
    "cm=confusion_matrix(y_test,y_pred)\n",
    "print(\"Confusion Matrix Gradient Algorithm is:\", cm,sep='\\n')"
   ]
  },
  {
   "cell_type": "code",
   "execution_count": 171,
   "metadata": {},
   "outputs": [
    {
     "data": {
      "text/plain": [
       "array([[0.99305845, 0.00694155],\n",
       "       [0.98786408, 0.01213592],\n",
       "       [0.99252811, 0.00747189],\n",
       "       ...,\n",
       "       [0.99387462, 0.00612538],\n",
       "       [0.95311972, 0.04688028],\n",
       "       [0.95677943, 0.04322057]])"
      ]
     },
     "execution_count": 171,
     "metadata": {},
     "output_type": "execute_result"
    }
   ],
   "source": [
    "probs=gb.predict_proba(x_test)#will give the probabitlities of classes for predicted value\n",
    "probs"
   ]
  },
  {
   "cell_type": "code",
   "execution_count": 172,
   "metadata": {},
   "outputs": [
    {
     "name": "stdout",
     "output_type": "stream",
     "text": [
      "Area Under the curve:  98.67229747582394\n"
     ]
    }
   ],
   "source": [
    "prob_positive=probs[:,1]\n",
    "fpr,tpr,threshold=metrics.roc_curve(y_test,prob_positive)\n",
    "roc_auc=metrics.auc(fpr,tpr)\n",
    "print('Area Under the curve: ',(roc_auc)*100)"
   ]
  },
  {
   "cell_type": "code",
   "execution_count": 173,
   "metadata": {},
   "outputs": [
    {
     "data": {
      "image/png": "[encoded data removed]",
      "text/plain": [
       "<Figure size 648x360 with 1 Axes>"
      ]
     },
     "metadata": {
      "needs_background": "light"
     },
     "output_type": "display_data"
    }
   ],
   "source": [
    "#Plot ROC Curve for Gradient Boost\n",
    "plt.rcParams['figure.figsize']=[9,5]\n",
    "fig=plt.figure()\n",
    "\n",
    "plt.title('Receiver Operating Characteristics')\n",
    "plt.plot(fpr,tpr,'orange',label='AUC= %0.2f'% roc_auc)\n",
    "plt.legend(loc='lower right')\n",
    "plt.plot([0,1],[0,1],color='darkblue',linestyle='--')\n",
    "plt.ylabel('True Positive Rate')\n",
    "plt.xlabel('False Positive Rate')\n",
    "plt.show()"
   ]
  },
  {
   "cell_type": "code",
   "execution_count": 174,
   "metadata": {},
   "outputs": [
    {
     "name": "stdout",
     "output_type": "stream",
     "text": [
      "              precision    recall  f1-score   support\n",
      "\n",
      "           0       0.98      0.99      0.99      2002\n",
      "           1       0.97      0.91      0.94       397\n",
      "\n",
      "    accuracy                           0.98      2399\n",
      "   macro avg       0.98      0.95      0.97      2399\n",
      "weighted avg       0.98      0.98      0.98      2399\n",
      "\n"
     ]
    }
   ],
   "source": [
    "print(classification_report(y_test,y_pred))"
   ]
  },
  {
   "cell_type": "markdown",
   "metadata": {},
   "source": [
    "# XGBoost"
   ]
  },
  {
   "cell_type": "code",
   "execution_count": 175,
   "metadata": {},
   "outputs": [],
   "source": [
    "from xgboost import XGBClassifier"
   ]
  },
  {
   "cell_type": "code",
   "execution_count": 176,
   "metadata": {},
   "outputs": [
    {
     "data": {
      "text/plain": [
       "0.9795748228428511"
      ]
     },
     "execution_count": 176,
     "metadata": {},
     "output_type": "execute_result"
    }
   ],
   "source": [
    "xgb=XGBClassifier()\n",
    "xgb.fit(x_train,y_train)\n",
    "y_pred=xgb.predict(x_test)\n",
    "accuracy_score(y_test,y_pred)"
   ]
  },
  {
   "cell_type": "code",
   "execution_count": 177,
   "metadata": {},
   "outputs": [
    {
     "name": "stdout",
     "output_type": "stream",
     "text": [
      "Confusion Matrix XGBoost Algorithm is:\n",
      "[[1991   11]\n",
      " [  38  359]]\n"
     ]
    }
   ],
   "source": [
    "cm=confusion_matrix(y_test,y_pred)\n",
    "print(\"Confusion Matrix XGBoost Algorithm is:\", cm,sep='\\n')"
   ]
  },
  {
   "cell_type": "code",
   "execution_count": 178,
   "metadata": {},
   "outputs": [
    {
     "data": {
      "text/plain": [
       "array([[0.9909884 , 0.0090116 ],\n",
       "       [0.98372114, 0.01627888],\n",
       "       [0.992411  , 0.00758901],\n",
       "       ...,\n",
       "       [0.9865516 , 0.01344839],\n",
       "       [0.96644115, 0.03355882],\n",
       "       [0.93119067, 0.06880933]], dtype=float32)"
      ]
     },
     "execution_count": 178,
     "metadata": {},
     "output_type": "execute_result"
    }
   ],
   "source": [
    "probs=xgb.predict_proba(x_test)# It will give the probabitlities of classes for predicted value\n",
    "probs"
   ]
  },
  {
   "cell_type": "code",
   "execution_count": 179,
   "metadata": {},
   "outputs": [
    {
     "name": "stdout",
     "output_type": "stream",
     "text": [
      "Area Under the curve:  98.46356414366491\n"
     ]
    }
   ],
   "source": [
    "prob_positive=probs[:,1]\n",
    "fpr,tpr,threshold=metrics.roc_curve(y_test,prob_positive)\n",
    "roc_auc=metrics.auc(fpr,tpr)\n",
    "print('Area Under the curve: ',(roc_auc)*100)"
   ]
  },
  {
   "cell_type": "code",
   "execution_count": 180,
   "metadata": {},
   "outputs": [
    {
     "data": {
      "image/png": "[encoded data removed]",
      "text/plain": [
       "<Figure size 648x360 with 1 Axes>"
      ]
     },
     "metadata": {
      "needs_background": "light"
     },
     "output_type": "display_data"
    }
   ],
   "source": [
    "#Plot ROC Curve for XG Boost\n",
    "plt.rcParams['figure.figsize']=[9,5]\n",
    "fig=plt.figure()\n",
    "\n",
    "plt.title('Receiver Operating Characteristics')\n",
    "plt.plot(fpr,tpr,'orange',label='AUC= %0.2f'% roc_auc)\n",
    "plt.legend(loc='lower right')\n",
    "plt.plot([0,1],[0,1],color='darkblue',linestyle='--')\n",
    "plt.ylabel('True Positive Rate')\n",
    "plt.xlabel('False Positive Rate')\n",
    "plt.show()"
   ]
  },
  {
   "cell_type": "code",
   "execution_count": 181,
   "metadata": {},
   "outputs": [
    {
     "name": "stdout",
     "output_type": "stream",
     "text": [
      "              precision    recall  f1-score   support\n",
      "\n",
      "           0       0.98      0.99      0.99      2002\n",
      "           1       0.97      0.90      0.94       397\n",
      "\n",
      "    accuracy                           0.98      2399\n",
      "   macro avg       0.98      0.95      0.96      2399\n",
      "weighted avg       0.98      0.98      0.98      2399\n",
      "\n"
     ]
    }
   ],
   "source": [
    "print(classification_report(y_test,y_pred))"
   ]
  },
  {
   "cell_type": "markdown",
   "metadata": {},
   "source": [
    "# Which model gives best accuracy and why?"
   ]
  },
  {
   "cell_type": "markdown",
   "metadata": {},
   "source": [
    "- When compared to all algorithms that we have performed on the People Charm Dataset, \"Random Forest Model\" has the best accuracy with \"98.2%\".\n",
    "- The Random Forest algorithm basically creates multiple decision trees and merges them together to obtain a more stable and accurate prediction. In general, the more trees in the forest, the more robust would be the prediction and thus higher accuracy and If there are more trees, it won’t allow overfitting trees in the model.It has the power to handle a large data set with higher dimensionality.\n",
    "- Because of the above advantages of Random Forest. I choose it as the best accuracy model for this dataset"
   ]
  },
  {
   "cell_type": "markdown",
   "metadata": {},
   "source": [
    "# Do you feel accuracy is a good performance evaluation metric for the given data? If yes, justify your answer. If no, justify your answer and suggest alternative metric/s.\n",
    "\n",
    "- Accuracy is not the good performance technique for this data set as the target variable classes in the data are a majority of one class(0 or 1).\n",
    "- The Best metric for this data set is \"precision\". Because It is used to focus on minimising False positives, Our focus should be to make \"Precision\" as close to 100% as possible.\n",
    "   - Here the false positivity indicates that the employees who actually is going to leave are predicted as not going, which is a loss for the company. As they can offer some salary hikes or any other benifits to make the employees stay. And our aim here is to make attrition value as low as possible hence we will use \"precision\" metric to reduce the attrition value."
   ]
  }
 ],
 "metadata": {
  "kernelspec": {
   "display_name": "Python 3",
   "language": "python",
   "name": "python3"
  },
  "language_info": {
   "codemirror_mode": {
    "name": "ipython",
    "version": 3
   },
   "file_extension": ".py",
   "mimetype": "text/x-python",
   "name": "python",
   "nbconvert_exporter": "python",
   "pygments_lexer": "ipython3",
   "version": "3.7.3"
  }
 },
 "nbformat": 4,
 "nbformat_minor": 2
}
